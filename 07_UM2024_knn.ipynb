{
  "cells": [
    {
      "cell_type": "markdown",
      "id": "32aae90e",
      "metadata": {
        "id": "32aae90e"
      },
      "source": [
        "# Algorytm k najbliższych sąsiadów\n",
        "\n",
        "W ćwiczeniu wykorzystywany jest zbiór danych `donors.csv`, opracowany przez organizację weteranów, która zabiga o datki, kierując kampanie listowe do aktualnych i potencjalnych darczyńców z bazy danych. Zbiór danych zawiera informacje o cechach charakterystycznych klientów oraz o tym, czy zareagowali na kampanię testową. Zadaniem jest pomoc organizacji w przewidzeniu, którzy darczyńcy odpowiedzą na kampanię listową w oparciu o dane demograficzne, wcześniejszą historię datków oraz reakcję na poprzednie kampanie listowe.\n",
        "\n",
        "1. Zaimportuj dane i wyświetl ich podgląd (funkcje `read_csv` oraz `glimpse`. Pierwsze 12 zmiennych jest typu `numeric`, pozostałe 10 jest typu `factor`). Cecha klasy nosi nazwę `respondentMailing`."
      ]
    },
    {
      "cell_type": "code",
      "execution_count": null,
      "id": "ed11bf9d",
      "metadata": {
        "tags": [
          "remove_cell"
        ],
        "id": "ed11bf9d"
      },
      "outputs": [],
      "source": [
        "if (!require(tidyverse)) install.packages(\"tidyverse\")\n",
        "if (!require(class)) install.packages(\"class\")\n",
        "if (!require(performanceEstimation)) install.packages(\"performanceEstimation\")\n",
        "\n",
        "library(tidyverse)\n",
        "library(class)\n",
        "library(performanceEstimation)"
      ]
    },
    {
      "cell_type": "code",
      "source": [
        "df <- read.csv(\"donors.csv\")\n",
        "\n",
        "head(df)"
      ],
      "metadata": {
        "colab": {
          "base_uri": "https://localhost:8080/",
          "height": 306
        },
        "id": "hPg7FcyrnoEN",
        "outputId": "498a48f1-70c4-42af-ffc0-32b3b1a36e13"
      },
      "id": "hPg7FcyrnoEN",
      "execution_count": null,
      "outputs": [
        {
          "output_type": "display_data",
          "data": {
            "text/html": [
              "<table class=\"dataframe\">\n",
              "<caption>A data.frame: 6 × 22</caption>\n",
              "<thead>\n",
              "\t<tr><th></th><th scope=col>age</th><th scope=col>numberChildren</th><th scope=col>incomeRating</th><th scope=col>wealthRating</th><th scope=col>mailOrderPurchases</th><th scope=col>totalGivingAmount</th><th scope=col>numberGifts</th><th scope=col>smallestGiftAmount</th><th scope=col>largestGiftAmount</th><th scope=col>averageGiftAmount</th><th scope=col>⋯</th><th scope=col>inHouseDonor</th><th scope=col>plannedGivingDonor</th><th scope=col>sweepstakesDonor</th><th scope=col>P3Donor</th><th scope=col>state</th><th scope=col>urbanicity</th><th scope=col>socioEconomicStatus</th><th scope=col>isHomeowner</th><th scope=col>gender</th><th scope=col>respondedMailing</th></tr>\n",
              "\t<tr><th></th><th scope=col>&lt;int&gt;</th><th scope=col>&lt;int&gt;</th><th scope=col>&lt;int&gt;</th><th scope=col>&lt;int&gt;</th><th scope=col>&lt;int&gt;</th><th scope=col>&lt;dbl&gt;</th><th scope=col>&lt;int&gt;</th><th scope=col>&lt;dbl&gt;</th><th scope=col>&lt;dbl&gt;</th><th scope=col>&lt;dbl&gt;</th><th scope=col>⋯</th><th scope=col>&lt;lgl&gt;</th><th scope=col>&lt;lgl&gt;</th><th scope=col>&lt;lgl&gt;</th><th scope=col>&lt;lgl&gt;</th><th scope=col>&lt;chr&gt;</th><th scope=col>&lt;chr&gt;</th><th scope=col>&lt;chr&gt;</th><th scope=col>&lt;lgl&gt;</th><th scope=col>&lt;chr&gt;</th><th scope=col>&lt;lgl&gt;</th></tr>\n",
              "</thead>\n",
              "<tbody>\n",
              "\t<tr><th scope=row>1</th><td>60</td><td>NA</td><td>NA</td><td>NA</td><td> 0</td><td>240</td><td>31</td><td> 5</td><td>12</td><td> 7.741935</td><td>⋯</td><td>FALSE</td><td>FALSE</td><td>FALSE</td><td>FALSE</td><td>IL</td><td>town  </td><td>average</td><td>  NA</td><td>female</td><td>FALSE</td></tr>\n",
              "\t<tr><th scope=row>2</th><td>46</td><td> 1</td><td> 6</td><td> 9</td><td>16</td><td> 47</td><td> 3</td><td>10</td><td>25</td><td>15.666667</td><td>⋯</td><td>FALSE</td><td>FALSE</td><td>FALSE</td><td>FALSE</td><td>CA</td><td>suburb</td><td>highest</td><td>TRUE</td><td>male  </td><td>FALSE</td></tr>\n",
              "\t<tr><th scope=row>3</th><td>NA</td><td>NA</td><td> 3</td><td> 1</td><td> 2</td><td>202</td><td>27</td><td> 2</td><td>16</td><td> 7.481481</td><td>⋯</td><td>FALSE</td><td>FALSE</td><td>FALSE</td><td>FALSE</td><td>NC</td><td>rural </td><td>average</td><td>  NA</td><td>male  </td><td>FALSE</td></tr>\n",
              "\t<tr><th scope=row>4</th><td>70</td><td>NA</td><td> 1</td><td> 4</td><td> 2</td><td>109</td><td>16</td><td> 2</td><td>11</td><td> 6.812500</td><td>⋯</td><td>FALSE</td><td>FALSE</td><td>FALSE</td><td>FALSE</td><td>CA</td><td>rural </td><td>average</td><td>  NA</td><td>female</td><td>FALSE</td></tr>\n",
              "\t<tr><th scope=row>5</th><td>78</td><td> 1</td><td> 3</td><td> 2</td><td>60</td><td>254</td><td>37</td><td> 3</td><td>15</td><td> 6.864865</td><td>⋯</td><td> TRUE</td><td>FALSE</td><td>FALSE</td><td> TRUE</td><td>FL</td><td>suburb</td><td>average</td><td>TRUE</td><td>female</td><td>FALSE</td></tr>\n",
              "\t<tr><th scope=row>6</th><td>NA</td><td>NA</td><td>NA</td><td>NA</td><td> 0</td><td> 51</td><td> 4</td><td>10</td><td>16</td><td>12.750000</td><td>⋯</td><td>FALSE</td><td>FALSE</td><td>FALSE</td><td>FALSE</td><td>AL</td><td>town  </td><td>average</td><td>  NA</td><td>NA    </td><td>FALSE</td></tr>\n",
              "</tbody>\n",
              "</table>\n"
            ],
            "text/markdown": "\nA data.frame: 6 × 22\n\n| <!--/--> | age &lt;int&gt; | numberChildren &lt;int&gt; | incomeRating &lt;int&gt; | wealthRating &lt;int&gt; | mailOrderPurchases &lt;int&gt; | totalGivingAmount &lt;dbl&gt; | numberGifts &lt;int&gt; | smallestGiftAmount &lt;dbl&gt; | largestGiftAmount &lt;dbl&gt; | averageGiftAmount &lt;dbl&gt; | ⋯ ⋯ | inHouseDonor &lt;lgl&gt; | plannedGivingDonor &lt;lgl&gt; | sweepstakesDonor &lt;lgl&gt; | P3Donor &lt;lgl&gt; | state &lt;chr&gt; | urbanicity &lt;chr&gt; | socioEconomicStatus &lt;chr&gt; | isHomeowner &lt;lgl&gt; | gender &lt;chr&gt; | respondedMailing &lt;lgl&gt; |\n|---|---|---|---|---|---|---|---|---|---|---|---|---|---|---|---|---|---|---|---|---|---|\n| 1 | 60 | NA | NA | NA |  0 | 240 | 31 |  5 | 12 |  7.741935 | ⋯ | FALSE | FALSE | FALSE | FALSE | IL | town   | average |   NA | female | FALSE |\n| 2 | 46 |  1 |  6 |  9 | 16 |  47 |  3 | 10 | 25 | 15.666667 | ⋯ | FALSE | FALSE | FALSE | FALSE | CA | suburb | highest | TRUE | male   | FALSE |\n| 3 | NA | NA |  3 |  1 |  2 | 202 | 27 |  2 | 16 |  7.481481 | ⋯ | FALSE | FALSE | FALSE | FALSE | NC | rural  | average |   NA | male   | FALSE |\n| 4 | 70 | NA |  1 |  4 |  2 | 109 | 16 |  2 | 11 |  6.812500 | ⋯ | FALSE | FALSE | FALSE | FALSE | CA | rural  | average |   NA | female | FALSE |\n| 5 | 78 |  1 |  3 |  2 | 60 | 254 | 37 |  3 | 15 |  6.864865 | ⋯ |  TRUE | FALSE | FALSE |  TRUE | FL | suburb | average | TRUE | female | FALSE |\n| 6 | NA | NA | NA | NA |  0 |  51 |  4 | 10 | 16 | 12.750000 | ⋯ | FALSE | FALSE | FALSE | FALSE | AL | town   | average |   NA | NA     | FALSE |\n\n",
            "text/latex": "A data.frame: 6 × 22\n\\begin{tabular}{r|lllllllllllllllllllll}\n  & age & numberChildren & incomeRating & wealthRating & mailOrderPurchases & totalGivingAmount & numberGifts & smallestGiftAmount & largestGiftAmount & averageGiftAmount & ⋯ & inHouseDonor & plannedGivingDonor & sweepstakesDonor & P3Donor & state & urbanicity & socioEconomicStatus & isHomeowner & gender & respondedMailing\\\\\n  & <int> & <int> & <int> & <int> & <int> & <dbl> & <int> & <dbl> & <dbl> & <dbl> & ⋯ & <lgl> & <lgl> & <lgl> & <lgl> & <chr> & <chr> & <chr> & <lgl> & <chr> & <lgl>\\\\\n\\hline\n\t1 & 60 & NA & NA & NA &  0 & 240 & 31 &  5 & 12 &  7.741935 & ⋯ & FALSE & FALSE & FALSE & FALSE & IL & town   & average &   NA & female & FALSE\\\\\n\t2 & 46 &  1 &  6 &  9 & 16 &  47 &  3 & 10 & 25 & 15.666667 & ⋯ & FALSE & FALSE & FALSE & FALSE & CA & suburb & highest & TRUE & male   & FALSE\\\\\n\t3 & NA & NA &  3 &  1 &  2 & 202 & 27 &  2 & 16 &  7.481481 & ⋯ & FALSE & FALSE & FALSE & FALSE & NC & rural  & average &   NA & male   & FALSE\\\\\n\t4 & 70 & NA &  1 &  4 &  2 & 109 & 16 &  2 & 11 &  6.812500 & ⋯ & FALSE & FALSE & FALSE & FALSE & CA & rural  & average &   NA & female & FALSE\\\\\n\t5 & 78 &  1 &  3 &  2 & 60 & 254 & 37 &  3 & 15 &  6.864865 & ⋯ &  TRUE & FALSE & FALSE &  TRUE & FL & suburb & average & TRUE & female & FALSE\\\\\n\t6 & NA & NA & NA & NA &  0 &  51 &  4 & 10 & 16 & 12.750000 & ⋯ & FALSE & FALSE & FALSE & FALSE & AL & town   & average &   NA & NA     & FALSE\\\\\n\\end{tabular}\n",
            "text/plain": [
              "  age numberChildren incomeRating wealthRating mailOrderPurchases\n",
              "1 60  NA             NA           NA            0                \n",
              "2 46   1              6            9           16                \n",
              "3 NA  NA              3            1            2                \n",
              "4 70  NA              1            4            2                \n",
              "5 78   1              3            2           60                \n",
              "6 NA  NA             NA           NA            0                \n",
              "  totalGivingAmount numberGifts smallestGiftAmount largestGiftAmount\n",
              "1 240               31           5                 12               \n",
              "2  47                3          10                 25               \n",
              "3 202               27           2                 16               \n",
              "4 109               16           2                 11               \n",
              "5 254               37           3                 15               \n",
              "6  51                4          10                 16               \n",
              "  averageGiftAmount ⋯ inHouseDonor plannedGivingDonor sweepstakesDonor P3Donor\n",
              "1  7.741935         ⋯ FALSE        FALSE              FALSE            FALSE  \n",
              "2 15.666667         ⋯ FALSE        FALSE              FALSE            FALSE  \n",
              "3  7.481481         ⋯ FALSE        FALSE              FALSE            FALSE  \n",
              "4  6.812500         ⋯ FALSE        FALSE              FALSE            FALSE  \n",
              "5  6.864865         ⋯  TRUE        FALSE              FALSE             TRUE  \n",
              "6 12.750000         ⋯ FALSE        FALSE              FALSE            FALSE  \n",
              "  state urbanicity socioEconomicStatus isHomeowner gender respondedMailing\n",
              "1 IL    town       average               NA        female FALSE           \n",
              "2 CA    suburb     highest             TRUE        male   FALSE           \n",
              "3 NC    rural      average               NA        male   FALSE           \n",
              "4 CA    rural      average               NA        female FALSE           \n",
              "5 FL    suburb     average             TRUE        female FALSE           \n",
              "6 AL    town       average               NA        NA     FALSE           "
            ]
          },
          "metadata": {}
        }
      ]
    },
    {
      "cell_type": "code",
      "source": [
        "dim(df)"
      ],
      "metadata": {
        "colab": {
          "base_uri": "https://localhost:8080/",
          "height": 34
        },
        "id": "CbvkVggKwhTW",
        "outputId": "8e291823-fe35-4125-9ed4-6bbf92ecf7d6"
      },
      "id": "CbvkVggKwhTW",
      "execution_count": null,
      "outputs": [
        {
          "output_type": "display_data",
          "data": {
            "text/html": [
              "<style>\n",
              ".list-inline {list-style: none; margin:0; padding: 0}\n",
              ".list-inline>li {display: inline-block}\n",
              ".list-inline>li:not(:last-child)::after {content: \"\\00b7\"; padding: 0 .5ex}\n",
              "</style>\n",
              "<ol class=list-inline><li>95412</li><li>22</li></ol>\n"
            ],
            "text/markdown": "1. 95412\n2. 22\n\n\n",
            "text/latex": "\\begin{enumerate*}\n\\item 95412\n\\item 22\n\\end{enumerate*}\n",
            "text/plain": [
              "[1] 95412    22"
            ]
          },
          "metadata": {}
        }
      ]
    },
    {
      "cell_type": "code",
      "source": [
        "df <- df %>%\n",
        "  mutate(\n",
        "         age = as.integer(age),\n",
        "         numberChildren = as.integer(numberChildren),\n",
        "         incomeRating = as.integer(incomeRating),\n",
        "         wealthRating = as.integer(wealthRating),\n",
        "         mailOrderPurchases = as.integer(mailOrderPurchases),\n",
        "         totalGivingAmount = as.integer(totalGivingAmount),\n",
        "         numberGifts = as.integer(numberGifts),\n",
        "         smallestGiftAmount = as.integer(smallestGiftAmount),\n",
        "         largestGiftAmount = as.integer(largestGiftAmount),\n",
        "         averageGiftAmount = as.double(averageGiftAmount),\n",
        "         yearsSinceFirstDonation = as.integer(yearsSinceFirstDonation),\n",
        "         monthsSinceLastDonation = as.integer(monthsSinceLastDonation),\n",
        "         inHouseDonor = as.factor(inHouseDonor),\n",
        "         plannedGivingDonor = as.factor(plannedGivingDonor),\n",
        "         sweepstakesDonor = as.factor(sweepstakesDonor),\n",
        "         P3Donor = as.factor(P3Donor),\n",
        "         state = as.factor(state),\n",
        "         urbanicity = as.factor(urbanicity),\n",
        "         socioEconomicStatus = as.factor(socioEconomicStatus),\n",
        "         isHomeowner = as.factor(isHomeowner),\n",
        "         gender = as.factor(gender),\n",
        "         respondedMailing = as.factor(respondedMailing))\n",
        "\n",
        "glimpse(df)"
      ],
      "metadata": {
        "colab": {
          "base_uri": "https://localhost:8080/"
        },
        "id": "JMN8WmW8rMWd",
        "outputId": "77a3cd3e-6f42-4901-f1b4-cc6ca16b6345"
      },
      "id": "JMN8WmW8rMWd",
      "execution_count": null,
      "outputs": [
        {
          "output_type": "stream",
          "name": "stdout",
          "text": [
            "Rows: 95,412\n",
            "Columns: 22\n",
            "$ age                     \u001b[3m\u001b[90m<int>\u001b[39m\u001b[23m 60, 46, \u001b[31mNA\u001b[39m, 70, 78, \u001b[31mNA\u001b[39m, 38, \u001b[31mNA\u001b[39m, \u001b[31mNA\u001b[39m, 65, \u001b[31mNA\u001b[39m, 75…\n",
            "$ numberChildren          \u001b[3m\u001b[90m<int>\u001b[39m\u001b[23m \u001b[31mNA\u001b[39m, 1, \u001b[31mNA\u001b[39m, \u001b[31mNA\u001b[39m, 1, \u001b[31mNA\u001b[39m, 1, \u001b[31mNA\u001b[39m, \u001b[31mNA\u001b[39m, \u001b[31mNA\u001b[39m, \u001b[31mNA\u001b[39m, \u001b[31mNA\u001b[39m, 2…\n",
            "$ incomeRating            \u001b[3m\u001b[90m<int>\u001b[39m\u001b[23m \u001b[31mNA\u001b[39m, 6, 3, 1, 3, \u001b[31mNA\u001b[39m, 4, 2, 3, \u001b[31mNA\u001b[39m, 2, 1, 4, \u001b[31mNA\u001b[39m, …\n",
            "$ wealthRating            \u001b[3m\u001b[90m<int>\u001b[39m\u001b[23m \u001b[31mNA\u001b[39m, 9, 1, 4, 2, \u001b[31mNA\u001b[39m, 6, 9, 2, \u001b[31mNA\u001b[39m, 0, 5, 2, \u001b[31mNA\u001b[39m, …\n",
            "$ mailOrderPurchases      \u001b[3m\u001b[90m<int>\u001b[39m\u001b[23m 0, 16, 2, 2, 60, 0, 0, 1, 0, 0, 0, 3, 16, 0, 1…\n",
            "$ totalGivingAmount       \u001b[3m\u001b[90m<int>\u001b[39m\u001b[23m 240, 47, 202, 109, 254, 51, 107, 31, 199, 28, …\n",
            "$ numberGifts             \u001b[3m\u001b[90m<int>\u001b[39m\u001b[23m 31, 3, 27, 16, 37, 4, 14, 5, 11, 3, 1, 2, 9, 1…\n",
            "$ smallestGiftAmount      \u001b[3m\u001b[90m<int>\u001b[39m\u001b[23m 5, 10, 2, 2, 3, 10, 3, 5, 10, 3, 20, 10, 4, 5,…\n",
            "$ largestGiftAmount       \u001b[3m\u001b[90m<int>\u001b[39m\u001b[23m 12, 25, 16, 11, 15, 16, 12, 11, 22, 15, 20, 15…\n",
            "$ averageGiftAmount       \u001b[3m\u001b[90m<dbl>\u001b[39m\u001b[23m 7.741935, 15.666667, 7.481481, 6.812500, 6.864…\n",
            "$ yearsSinceFirstDonation \u001b[3m\u001b[90m<int>\u001b[39m\u001b[23m 8, 3, 7, 10, 11, 3, 10, 3, 9, 3, 1, 1, 8, 5, 4…\n",
            "$ monthsSinceLastDonation \u001b[3m\u001b[90m<int>\u001b[39m\u001b[23m 14, 14, 14, 14, 13, 20, 22, 18, 19, 22, 12, 14…\n",
            "$ inHouseDonor            \u001b[3m\u001b[90m<fct>\u001b[39m\u001b[23m FALSE, FALSE, FALSE, FALSE, TRUE, FALSE, FALSE…\n",
            "$ plannedGivingDonor      \u001b[3m\u001b[90m<fct>\u001b[39m\u001b[23m FALSE, FALSE, FALSE, FALSE, FALSE, FALSE, FALS…\n",
            "$ sweepstakesDonor        \u001b[3m\u001b[90m<fct>\u001b[39m\u001b[23m FALSE, FALSE, FALSE, FALSE, FALSE, FALSE, FALS…\n",
            "$ P3Donor                 \u001b[3m\u001b[90m<fct>\u001b[39m\u001b[23m FALSE, FALSE, FALSE, FALSE, TRUE, FALSE, FALSE…\n",
            "$ state                   \u001b[3m\u001b[90m<fct>\u001b[39m\u001b[23m IL, CA, NC, CA, FL, AL, IN, LA, IA, TN, KS, IN…\n",
            "$ urbanicity              \u001b[3m\u001b[90m<fct>\u001b[39m\u001b[23m town, suburb, rural, rural, suburb, town, town…\n",
            "$ socioEconomicStatus     \u001b[3m\u001b[90m<fct>\u001b[39m\u001b[23m average, highest, average, average, average, a…\n",
            "$ isHomeowner             \u001b[3m\u001b[90m<fct>\u001b[39m\u001b[23m \u001b[31mNA\u001b[39m, TRUE, \u001b[31mNA\u001b[39m, \u001b[31mNA\u001b[39m, TRUE, \u001b[31mNA\u001b[39m, TRUE, \u001b[31mNA\u001b[39m, \u001b[31mNA\u001b[39m, \u001b[31mNA\u001b[39m, …\n",
            "$ gender                  \u001b[3m\u001b[90m<fct>\u001b[39m\u001b[23m female, male, male, female, female, \u001b[31mNA\u001b[39m, female…\n",
            "$ respondedMailing        \u001b[3m\u001b[90m<fct>\u001b[39m\u001b[23m FALSE, FALSE, FALSE, FALSE, FALSE, FALSE, FALS…\n"
          ]
        }
      ]
    },
    {
      "cell_type": "markdown",
      "id": "ad987fb6",
      "metadata": {
        "id": "ad987fb6"
      },
      "source": [
        "2. Ogranicz predyktory wyłącznie do cech liczbowych ze zbioru danych (funkcja `select`). Wyświetl podsumowanie statystyczne dla nowego zbioru danych i sprawdź dla których zmiennych występują braki danych."
      ]
    },
    {
      "cell_type": "code",
      "execution_count": null,
      "id": "f7dda5ce",
      "metadata": {
        "id": "f7dda5ce"
      },
      "outputs": [],
      "source": [
        "df_numeric <- df %>%\n",
        "    select(where(is.numeric))\n",
        "\n",
        "df_numeric[\"respondedMailing\"] <- df[\"respondedMailing\"]"
      ]
    },
    {
      "cell_type": "code",
      "source": [
        "numberofna <- df_numeric %>%\n",
        "  filter(if_any(everything(), is.na)) %>%\n",
        "  nrow()"
      ],
      "metadata": {
        "id": "jcfhqbcU0L-9"
      },
      "id": "jcfhqbcU0L-9",
      "execution_count": null,
      "outputs": []
    },
    {
      "cell_type": "code",
      "source": [
        "round(numberofna / nrow(df_numeric) * 100, 2)"
      ],
      "metadata": {
        "colab": {
          "base_uri": "https://localhost:8080/",
          "height": 34
        },
        "id": "QfLAxwP90Ma3",
        "outputId": "c3cf2a55-5d15-4050-87dc-4cb53ef3018a"
      },
      "id": "QfLAxwP90Ma3",
      "execution_count": null,
      "outputs": [
        {
          "output_type": "display_data",
          "data": {
            "text/html": [
              "91.86"
            ],
            "text/markdown": "91.86",
            "text/latex": "91.86",
            "text/plain": [
              "[1] 91.86"
            ]
          },
          "metadata": {}
        }
      ]
    },
    {
      "cell_type": "markdown",
      "id": "f7f1ec92",
      "metadata": {
        "id": "f7f1ec92"
      },
      "source": [
        "3. Uzupełnij brakujące dane: dla zmiennej `age` użyj imputacji średniej, dla zmiennej `numberChildren` - imputacji mediany. W przypadku cech `incomeRating` oraz `wealthRating` problem brakujących danych rozwiąż wykluczając te wystąpienia ze zbioru danych. Ponadto dla zmiennej `wealthRating` (miara ogólnego majątku darczyńcy w skali od 1 do 9) należy również wykluczyć wystąpienia o wartości 0."
      ]
    },
    {
      "cell_type": "code",
      "execution_count": null,
      "id": "d3f9d3b2",
      "metadata": {
        "id": "d3f9d3b2"
      },
      "outputs": [],
      "source": [
        "df_numeric[\"age\"][is.na(df_numeric[\"age\"])] <- as.integer(mean(df_numeric$age, na.rm = TRUE))\n",
        "df_numeric[\"numberChildren\"][is.na(df_numeric[\"numberChildren\"])] <- median(df_numeric$numberChildren, na.rm = TRUE)\n",
        "\n",
        "df_numeric <- df_numeric %>%\n",
        "    filter(!is.na(incomeRating) &\n",
        "           !is.na(wealthRating) &\n",
        "           wealthRating > 0\n",
        "    )"
      ]
    },
    {
      "cell_type": "code",
      "source": [
        "df_numeric %>%\n",
        "  filter(if_any(everything(), is.na)) %>%\n",
        "  nrow()"
      ],
      "metadata": {
        "colab": {
          "base_uri": "https://localhost:8080/",
          "height": 34
        },
        "id": "qQ0a9J320RcP",
        "outputId": "125d7ead-d753-46dc-d47f-8d5d8972bee6"
      },
      "id": "qQ0a9J320RcP",
      "execution_count": null,
      "outputs": [
        {
          "output_type": "display_data",
          "data": {
            "text/html": [
              "0"
            ],
            "text/markdown": "0",
            "text/latex": "0",
            "text/plain": [
              "[1] 0"
            ]
          },
          "metadata": {}
        }
      ]
    },
    {
      "cell_type": "code",
      "source": [
        "dim(df_numeric)"
      ],
      "metadata": {
        "colab": {
          "base_uri": "https://localhost:8080/",
          "height": 34
        },
        "id": "lrVff4590TZX",
        "outputId": "2912f37a-1e16-4942-80ce-c2769c237688"
      },
      "id": "lrVff4590TZX",
      "execution_count": null,
      "outputs": [
        {
          "output_type": "display_data",
          "data": {
            "text/html": [
              "<style>\n",
              ".list-inline {list-style: none; margin:0; padding: 0}\n",
              ".list-inline>li {display: inline-block}\n",
              ".list-inline>li:not(:last-child)::after {content: \"\\00b7\"; padding: 0 .5ex}\n",
              "</style>\n",
              "<ol class=list-inline><li>48267</li><li>13</li></ol>\n"
            ],
            "text/markdown": "1. 48267\n2. 13\n\n\n",
            "text/latex": "\\begin{enumerate*}\n\\item 48267\n\\item 13\n\\end{enumerate*}\n",
            "text/plain": [
              "[1] 48267    13"
            ]
          },
          "metadata": {}
        }
      ]
    },
    {
      "cell_type": "markdown",
      "id": "5e754f2f",
      "metadata": {
        "id": "5e754f2f"
      },
      "source": [
        "4. Utwórz funkcję normalizacji min-max i zapisz ją jako `normalize`. Następnie wykorzystaj ją do znormalizowania wartości cech (ustandaryzowania skali do zakresu od 0 do 1)."
      ]
    },
    {
      "cell_type": "code",
      "execution_count": null,
      "id": "7775d0f0",
      "metadata": {
        "id": "7775d0f0"
      },
      "outputs": [],
      "source": [
        "min_max <- function(x) {\n",
        "    return ( (x - min(x)) / (max(x) - min(x)) )\n",
        "}\n",
        "\n",
        "df_numeric_norm <- data.frame(sapply(df_numeric, function(x) if (is.numeric(x)) min_max(x) else x))\n",
        "df_numeric_norm[\"respondedMailing\"] <- as.factor(df_numeric_norm[\"respondedMailing\"] == 2)"
      ]
    },
    {
      "cell_type": "code",
      "source": [
        "nrow(df_numeric_norm)"
      ],
      "metadata": {
        "colab": {
          "base_uri": "https://localhost:8080/",
          "height": 34
        },
        "id": "GKmMFLiT0Ncl",
        "outputId": "b10dd44b-7ffa-4057-ab84-aa8d51ad4547"
      },
      "id": "GKmMFLiT0Ncl",
      "execution_count": null,
      "outputs": [
        {
          "output_type": "display_data",
          "data": {
            "text/html": [
              "48267"
            ],
            "text/markdown": "48267",
            "text/latex": "48267",
            "text/plain": [
              "[1] 48267"
            ]
          },
          "metadata": {}
        }
      ]
    },
    {
      "cell_type": "markdown",
      "id": "9865c1a6",
      "metadata": {
        "id": "9865c1a6"
      },
      "source": [
        "5. Podziel dane na zbiory treningowy i testowy w stosunku 75:25, przekształcając uprzednio dane w ramkę danych. Porównaj rozkłady klas dla oryginalnego zbioru danych oraz zbiorów treningowego i testowego."
      ]
    },
    {
      "cell_type": "code",
      "execution_count": null,
      "id": "715ec33b",
      "metadata": {
        "id": "715ec33b"
      },
      "outputs": [],
      "source": [
        "set.seed(2024)\n",
        "split <- sample(1:nrow(df_numeric_norm),\n",
        "                      size = 0.75 * nrow(df_numeric_norm))\n",
        "\n",
        "X_train <- df_numeric_norm[split, ]\n",
        "X_test <- df_numeric_norm[-split, ]"
      ]
    },
    {
      "cell_type": "code",
      "source": [
        "names(X_train)"
      ],
      "metadata": {
        "colab": {
          "base_uri": "https://localhost:8080/",
          "height": 52
        },
        "id": "DmHDr5p1yGFF",
        "outputId": "edfcd407-1079-468e-8857-5129f6072cd7"
      },
      "id": "DmHDr5p1yGFF",
      "execution_count": null,
      "outputs": [
        {
          "output_type": "display_data",
          "data": {
            "text/html": [
              "<style>\n",
              ".list-inline {list-style: none; margin:0; padding: 0}\n",
              ".list-inline>li {display: inline-block}\n",
              ".list-inline>li:not(:last-child)::after {content: \"\\00b7\"; padding: 0 .5ex}\n",
              "</style>\n",
              "<ol class=list-inline><li>'age'</li><li>'numberChildren'</li><li>'incomeRating'</li><li>'wealthRating'</li><li>'mailOrderPurchases'</li><li>'totalGivingAmount'</li><li>'numberGifts'</li><li>'smallestGiftAmount'</li><li>'largestGiftAmount'</li><li>'averageGiftAmount'</li><li>'yearsSinceFirstDonation'</li><li>'monthsSinceLastDonation'</li><li>'respondedMailing'</li></ol>\n"
            ],
            "text/markdown": "1. 'age'\n2. 'numberChildren'\n3. 'incomeRating'\n4. 'wealthRating'\n5. 'mailOrderPurchases'\n6. 'totalGivingAmount'\n7. 'numberGifts'\n8. 'smallestGiftAmount'\n9. 'largestGiftAmount'\n10. 'averageGiftAmount'\n11. 'yearsSinceFirstDonation'\n12. 'monthsSinceLastDonation'\n13. 'respondedMailing'\n\n\n",
            "text/latex": "\\begin{enumerate*}\n\\item 'age'\n\\item 'numberChildren'\n\\item 'incomeRating'\n\\item 'wealthRating'\n\\item 'mailOrderPurchases'\n\\item 'totalGivingAmount'\n\\item 'numberGifts'\n\\item 'smallestGiftAmount'\n\\item 'largestGiftAmount'\n\\item 'averageGiftAmount'\n\\item 'yearsSinceFirstDonation'\n\\item 'monthsSinceLastDonation'\n\\item 'respondedMailing'\n\\end{enumerate*}\n",
            "text/plain": [
              " [1] \"age\"                     \"numberChildren\"         \n",
              " [3] \"incomeRating\"            \"wealthRating\"           \n",
              " [5] \"mailOrderPurchases\"      \"totalGivingAmount\"      \n",
              " [7] \"numberGifts\"             \"smallestGiftAmount\"     \n",
              " [9] \"largestGiftAmount\"       \"averageGiftAmount\"      \n",
              "[11] \"yearsSinceFirstDonation\" \"monthsSinceLastDonation\"\n",
              "[13] \"respondedMailing\"       "
            ]
          },
          "metadata": {}
        }
      ]
    },
    {
      "cell_type": "code",
      "source": [
        "print_class_dist <- function(data, name) {\n",
        "    cat(glue::glue(\"{name} dataset class distribution\"))\n",
        "    data %>%\n",
        "    group_by(respondedMailing) %>%\n",
        "    count(name = \"count\") %>%\n",
        "    mutate(perc_dist = count/nrow(data))\n",
        "}"
      ],
      "metadata": {
        "id": "7qvol0Ek1XBz"
      },
      "id": "7qvol0Ek1XBz",
      "execution_count": null,
      "outputs": []
    },
    {
      "cell_type": "code",
      "source": [
        "print_class_dist(df, \"Whole\")"
      ],
      "metadata": {
        "colab": {
          "base_uri": "https://localhost:8080/",
          "height": 178
        },
        "id": "1vlYHa1P1OOo",
        "outputId": "4a3a725c-52ec-41a7-8b17-752ef1243a88"
      },
      "id": "1vlYHa1P1OOo",
      "execution_count": null,
      "outputs": [
        {
          "output_type": "stream",
          "name": "stdout",
          "text": [
            "Whole dataset class distribution"
          ]
        },
        {
          "output_type": "display_data",
          "data": {
            "text/html": [
              "<table class=\"dataframe\">\n",
              "<caption>A grouped_df: 2 × 3</caption>\n",
              "<thead>\n",
              "\t<tr><th scope=col>respondedMailing</th><th scope=col>count</th><th scope=col>perc_dist</th></tr>\n",
              "\t<tr><th scope=col>&lt;fct&gt;</th><th scope=col>&lt;int&gt;</th><th scope=col>&lt;dbl&gt;</th></tr>\n",
              "</thead>\n",
              "<tbody>\n",
              "\t<tr><td>FALSE</td><td>90569</td><td>0.94924119</td></tr>\n",
              "\t<tr><td>TRUE </td><td> 4843</td><td>0.05075881</td></tr>\n",
              "</tbody>\n",
              "</table>\n"
            ],
            "text/markdown": "\nA grouped_df: 2 × 3\n\n| respondedMailing &lt;fct&gt; | count &lt;int&gt; | perc_dist &lt;dbl&gt; |\n|---|---|---|\n| FALSE | 90569 | 0.94924119 |\n| TRUE  |  4843 | 0.05075881 |\n\n",
            "text/latex": "A grouped\\_df: 2 × 3\n\\begin{tabular}{lll}\n respondedMailing & count & perc\\_dist\\\\\n <fct> & <int> & <dbl>\\\\\n\\hline\n\t FALSE & 90569 & 0.94924119\\\\\n\t TRUE  &  4843 & 0.05075881\\\\\n\\end{tabular}\n",
            "text/plain": [
              "  respondedMailing count perc_dist \n",
              "1 FALSE            90569 0.94924119\n",
              "2 TRUE              4843 0.05075881"
            ]
          },
          "metadata": {}
        }
      ]
    },
    {
      "cell_type": "code",
      "source": [
        "print_class_dist(X_train, \"Training\")"
      ],
      "metadata": {
        "colab": {
          "base_uri": "https://localhost:8080/",
          "height": 178
        },
        "id": "FYNIQ8631PSQ",
        "outputId": "ab55f762-2c1e-468d-c9ce-d02c451f7a75"
      },
      "id": "FYNIQ8631PSQ",
      "execution_count": null,
      "outputs": [
        {
          "output_type": "stream",
          "name": "stdout",
          "text": [
            "Training dataset class distribution"
          ]
        },
        {
          "output_type": "display_data",
          "data": {
            "text/html": [
              "<table class=\"dataframe\">\n",
              "<caption>A grouped_df: 2 × 3</caption>\n",
              "<thead>\n",
              "\t<tr><th scope=col>respondedMailing</th><th scope=col>count</th><th scope=col>perc_dist</th></tr>\n",
              "\t<tr><th scope=col>&lt;fct&gt;</th><th scope=col>&lt;int&gt;</th><th scope=col>&lt;dbl&gt;</th></tr>\n",
              "</thead>\n",
              "<tbody>\n",
              "\t<tr><td>FALSE</td><td>34325</td><td>0.94820442</td></tr>\n",
              "\t<tr><td>TRUE </td><td> 1875</td><td>0.05179558</td></tr>\n",
              "</tbody>\n",
              "</table>\n"
            ],
            "text/markdown": "\nA grouped_df: 2 × 3\n\n| respondedMailing &lt;fct&gt; | count &lt;int&gt; | perc_dist &lt;dbl&gt; |\n|---|---|---|\n| FALSE | 34325 | 0.94820442 |\n| TRUE  |  1875 | 0.05179558 |\n\n",
            "text/latex": "A grouped\\_df: 2 × 3\n\\begin{tabular}{lll}\n respondedMailing & count & perc\\_dist\\\\\n <fct> & <int> & <dbl>\\\\\n\\hline\n\t FALSE & 34325 & 0.94820442\\\\\n\t TRUE  &  1875 & 0.05179558\\\\\n\\end{tabular}\n",
            "text/plain": [
              "  respondedMailing count perc_dist \n",
              "1 FALSE            34325 0.94820442\n",
              "2 TRUE              1875 0.05179558"
            ]
          },
          "metadata": {}
        }
      ]
    },
    {
      "cell_type": "code",
      "source": [
        "print_class_dist(X_test, \"Test\")"
      ],
      "metadata": {
        "colab": {
          "base_uri": "https://localhost:8080/",
          "height": 178
        },
        "id": "6b9PxjTD1bTZ",
        "outputId": "9e9ead27-bb19-4101-d516-ffd1f4ac5a8a"
      },
      "id": "6b9PxjTD1bTZ",
      "execution_count": null,
      "outputs": [
        {
          "output_type": "stream",
          "name": "stdout",
          "text": [
            "Test dataset class distribution"
          ]
        },
        {
          "output_type": "display_data",
          "data": {
            "text/html": [
              "<table class=\"dataframe\">\n",
              "<caption>A grouped_df: 2 × 3</caption>\n",
              "<thead>\n",
              "\t<tr><th scope=col>respondedMailing</th><th scope=col>count</th><th scope=col>perc_dist</th></tr>\n",
              "\t<tr><th scope=col>&lt;fct&gt;</th><th scope=col>&lt;int&gt;</th><th scope=col>&lt;dbl&gt;</th></tr>\n",
              "</thead>\n",
              "<tbody>\n",
              "\t<tr><td>FALSE</td><td>11445</td><td>0.94845446</td></tr>\n",
              "\t<tr><td>TRUE </td><td>  622</td><td>0.05154554</td></tr>\n",
              "</tbody>\n",
              "</table>\n"
            ],
            "text/markdown": "\nA grouped_df: 2 × 3\n\n| respondedMailing &lt;fct&gt; | count &lt;int&gt; | perc_dist &lt;dbl&gt; |\n|---|---|---|\n| FALSE | 11445 | 0.94845446 |\n| TRUE  |   622 | 0.05154554 |\n\n",
            "text/latex": "A grouped\\_df: 2 × 3\n\\begin{tabular}{lll}\n respondedMailing & count & perc\\_dist\\\\\n <fct> & <int> & <dbl>\\\\\n\\hline\n\t FALSE & 11445 & 0.94845446\\\\\n\t TRUE  &   622 & 0.05154554\\\\\n\\end{tabular}\n",
            "text/plain": [
              "  respondedMailing count perc_dist \n",
              "1 FALSE            11445 0.94845446\n",
              "2 TRUE               622 0.05154554"
            ]
          },
          "metadata": {}
        }
      ]
    },
    {
      "cell_type": "markdown",
      "id": "140a2aaa",
      "metadata": {
        "id": "140a2aaa"
      },
      "source": [
        "6. Za pomocą funkcji `smote` z pakietu `performanceEstimation` zrównoważ dane treningowe."
      ]
    },
    {
      "cell_type": "code",
      "source": [
        "smote_data <- smote(respondedMailing ~ ., data = X_train, perc.over = 9, perc.under = 1.1, k = 5)\n",
        "print_class_dist(smote_data, \"Smoted\")\n",
        "\n",
        "nrow(smote_data)\n",
        "nrow(X_train)"
      ],
      "metadata": {
        "colab": {
          "base_uri": "https://localhost:8080/",
          "height": 213
        },
        "id": "Z-fWmWV0up7g",
        "outputId": "a28e63d2-fc6d-4319-86a7-893549289cdf"
      },
      "id": "Z-fWmWV0up7g",
      "execution_count": null,
      "outputs": [
        {
          "output_type": "stream",
          "name": "stdout",
          "text": [
            "Smoted dataset class distribution"
          ]
        },
        {
          "output_type": "display_data",
          "data": {
            "text/html": [
              "<table class=\"dataframe\">\n",
              "<caption>A grouped_df: 2 × 3</caption>\n",
              "<thead>\n",
              "\t<tr><th scope=col>respondedMailing</th><th scope=col>count</th><th scope=col>perc_dist</th></tr>\n",
              "\t<tr><th scope=col>&lt;fct&gt;</th><th scope=col>&lt;int&gt;</th><th scope=col>&lt;dbl&gt;</th></tr>\n",
              "</thead>\n",
              "<tbody>\n",
              "\t<tr><td>FALSE</td><td>18562</td><td>0.4974807</td></tr>\n",
              "\t<tr><td>TRUE </td><td>18750</td><td>0.5025193</td></tr>\n",
              "</tbody>\n",
              "</table>\n"
            ],
            "text/markdown": "\nA grouped_df: 2 × 3\n\n| respondedMailing &lt;fct&gt; | count &lt;int&gt; | perc_dist &lt;dbl&gt; |\n|---|---|---|\n| FALSE | 18562 | 0.4974807 |\n| TRUE  | 18750 | 0.5025193 |\n\n",
            "text/latex": "A grouped\\_df: 2 × 3\n\\begin{tabular}{lll}\n respondedMailing & count & perc\\_dist\\\\\n <fct> & <int> & <dbl>\\\\\n\\hline\n\t FALSE & 18562 & 0.4974807\\\\\n\t TRUE  & 18750 & 0.5025193\\\\\n\\end{tabular}\n",
            "text/plain": [
              "  respondedMailing count perc_dist\n",
              "1 FALSE            18562 0.4974807\n",
              "2 TRUE             18750 0.5025193"
            ]
          },
          "metadata": {}
        },
        {
          "output_type": "display_data",
          "data": {
            "text/html": [
              "37312"
            ],
            "text/markdown": "37312",
            "text/latex": "37312",
            "text/plain": [
              "[1] 37312"
            ]
          },
          "metadata": {}
        },
        {
          "output_type": "display_data",
          "data": {
            "text/html": [
              "36200"
            ],
            "text/markdown": "36200",
            "text/latex": "36200",
            "text/plain": [
              "[1] 36200"
            ]
          },
          "metadata": {}
        }
      ]
    },
    {
      "cell_type": "code",
      "source": [
        "X_train <- smote_data"
      ],
      "metadata": {
        "id": "hym83FfA1d8D"
      },
      "id": "hym83FfA1d8D",
      "execution_count": null,
      "outputs": []
    },
    {
      "cell_type": "markdown",
      "id": "d03fcc93",
      "metadata": {
        "id": "d03fcc93"
      },
      "source": [
        "7. Przenieś etykiety klas do osobnych zbiorów danych. Z pomocą polecenia `pull()` z pakietu `tidyverse` utwórz nowe wektory z etykietami cechy klasy (`respondedMailing`) i przekształć je do typu `factor`."
      ]
    },
    {
      "cell_type": "code",
      "execution_count": null,
      "id": "8e965949",
      "metadata": {
        "id": "8e965949"
      },
      "outputs": [],
      "source": [
        "train_labels <- X_train %>%\n",
        "  pull(respondedMailing) %>%\n",
        "  as.factor()\n",
        "\n",
        "test_labels <- X_test %>%\n",
        "  pull(respondedMailing) %>%\n",
        "  as.factor()"
      ]
    },
    {
      "cell_type": "markdown",
      "id": "fca86d08",
      "metadata": {
        "id": "fca86d08"
      },
      "source": [
        "8. Przekształć zbiory danych treningowych i testowych do postaci ramek danych bez etykiet klas (`respondedMailing`)."
      ]
    },
    {
      "cell_type": "code",
      "execution_count": null,
      "id": "b7d44ea0",
      "metadata": {
        "id": "b7d44ea0"
      },
      "outputs": [],
      "source": [
        "train_features <- X_train %>%\n",
        "  select(-respondedMailing)\n",
        "\n",
        "test_features <- X_test %>%\n",
        "  select(-respondedMailing)"
      ]
    },
    {
      "cell_type": "markdown",
      "id": "2ab5b7ea",
      "metadata": {
        "id": "2ab5b7ea"
      },
      "source": [
        "9. Budowanie modelu: Wykorzystaj funkcję `knn()` z pakietu `class` do oznaczenia przykładów testowych na podstawie danych treningowych. `k` ustaw wartość `5`."
      ]
    },
    {
      "cell_type": "code",
      "execution_count": null,
      "id": "f71dfd4d",
      "metadata": {
        "id": "f71dfd4d"
      },
      "outputs": [],
      "source": [
        "set.seed(123)\n",
        "predictions <- knn(train = train_features, test = test_features, cl = train_labels, k = 5)"
      ]
    },
    {
      "cell_type": "markdown",
      "id": "9bef83d0",
      "metadata": {
        "id": "9bef83d0"
      },
      "source": [
        "10. Wyświetl pierwsze 6 predykcji."
      ]
    },
    {
      "cell_type": "code",
      "execution_count": null,
      "id": "37a43a89",
      "metadata": {
        "id": "37a43a89",
        "colab": {
          "base_uri": "https://localhost:8080/",
          "height": 52
        },
        "outputId": "632ba08f-06df-48e3-8e27-cdbbe9e97e3a"
      },
      "outputs": [
        {
          "output_type": "display_data",
          "data": {
            "text/html": [
              "<style>\n",
              ".list-inline {list-style: none; margin:0; padding: 0}\n",
              ".list-inline>li {display: inline-block}\n",
              ".list-inline>li:not(:last-child)::after {content: \"\\00b7\"; padding: 0 .5ex}\n",
              "</style>\n",
              "<ol class=list-inline><li>FALSE</li><li>TRUE</li><li>FALSE</li><li>FALSE</li><li>TRUE</li><li>FALSE</li></ol>\n",
              "\n",
              "<details>\n",
              "\t<summary style=display:list-item;cursor:pointer>\n",
              "\t\t<strong>Levels</strong>:\n",
              "\t</summary>\n",
              "\t<style>\n",
              "\t.list-inline {list-style: none; margin:0; padding: 0}\n",
              "\t.list-inline>li {display: inline-block}\n",
              "\t.list-inline>li:not(:last-child)::after {content: \"\\00b7\"; padding: 0 .5ex}\n",
              "\t</style>\n",
              "\t<ol class=list-inline><li>'FALSE'</li><li>'TRUE'</li></ol>\n",
              "</details>"
            ],
            "text/markdown": "1. FALSE\n2. TRUE\n3. FALSE\n4. FALSE\n5. TRUE\n6. FALSE\n\n\n\n**Levels**: 1. 'FALSE'\n2. 'TRUE'\n\n\n",
            "text/latex": "\\begin{enumerate*}\n\\item FALSE\n\\item TRUE\n\\item FALSE\n\\item FALSE\n\\item TRUE\n\\item FALSE\n\\end{enumerate*}\n\n\\emph{Levels}: \\begin{enumerate*}\n\\item 'FALSE'\n\\item 'TRUE'\n\\end{enumerate*}\n",
            "text/plain": [
              "[1] FALSE TRUE  FALSE FALSE TRUE  FALSE\n",
              "Levels: FALSE TRUE"
            ]
          },
          "metadata": {}
        }
      ],
      "source": [
        "head(predictions)"
      ]
    },
    {
      "cell_type": "markdown",
      "id": "7170cadf",
      "metadata": {
        "id": "7170cadf"
      },
      "source": [
        "11. Utwórz macierz pomyłek i na jej podstawie oblicz dokładność predykcji."
      ]
    },
    {
      "cell_type": "code",
      "execution_count": null,
      "id": "bd577aba",
      "metadata": {
        "id": "bd577aba",
        "colab": {
          "base_uri": "https://localhost:8080/"
        },
        "outputId": "e38cca47-faab-4bbe-ce11-4b6b213f9427"
      },
      "outputs": [
        {
          "output_type": "stream",
          "name": "stdout",
          "text": [
            "       Predicted\n",
            "Actual  FALSE TRUE\n",
            "  FALSE  8034 3411\n",
            "  TRUE    426  196\n",
            "Accuracy: 68.2 %\n"
          ]
        }
      ],
      "source": [
        "conf_matrix <- table(Actual = test_labels, Predicted = predictions)\n",
        "print(conf_matrix)\n",
        "\n",
        "accuracy <- sum(diag(conf_matrix)) / sum(conf_matrix)\n",
        "cat(\"Accuracy:\", round(accuracy * 100, 2), \"%\\n\")"
      ]
    },
    {
      "cell_type": "markdown",
      "id": "bde237bb",
      "metadata": {
        "id": "bde237bb"
      },
      "source": [
        "12. Zmodyfikuj kod tak, aby użyć zmiennych kategorialnych w celu poprawy dokładności modelu."
      ]
    },
    {
      "cell_type": "code",
      "source": [
        "# Szukamy missing values\n",
        "numberofna <- df %>%\n",
        "    filter(if_any(everything(), is.na)) %>%\n",
        "    nrow()\n",
        "print(paste(\"Percentage of rows with NA:\", round(numberofna / nrow(df) * 100, 2), \"%\"))"
      ],
      "metadata": {
        "colab": {
          "base_uri": "https://localhost:8080/"
        },
        "id": "umZnGf8VMl2-",
        "outputId": "20b69648-3c9d-4a72-f7b5-eb5370c28010"
      },
      "id": "umZnGf8VMl2-",
      "execution_count": null,
      "outputs": [
        {
          "output_type": "stream",
          "name": "stdout",
          "text": [
            "[1] \"Percentage of rows with NA: 92.71 %\"\n"
          ]
        }
      ]
    },
    {
      "cell_type": "code",
      "source": [
        "# Uzupełnienie brakujących wartości\n",
        "df[\"age\"][is.na(df[\"age\"])] <- as.integer(mean(df$age, na.rm = TRUE))\n",
        "df[\"numberChildren\"][is.na(df[\"numberChildren\"])] <- median(df$numberChildren, na.rm = TRUE)"
      ],
      "metadata": {
        "id": "XdPmjiQhMlxD"
      },
      "id": "XdPmjiQhMlxD",
      "execution_count": null,
      "outputs": []
    },
    {
      "cell_type": "code",
      "source": [
        "# Filtrujemy brakujące wartości w wealthRating i incomeRating\n",
        "df <- df %>%\n",
        "    filter(!is.na(incomeRating) &\n",
        "           !is.na(wealthRating) &\n",
        "           wealthRating > 0)"
      ],
      "metadata": {
        "id": "S1pkeCNsMluC"
      },
      "id": "S1pkeCNsMluC",
      "execution_count": null,
      "outputs": []
    },
    {
      "cell_type": "code",
      "source": [
        "# Sprawdzamy ponownie brakujące wartości\n",
        "df %>%\n",
        "    filter(if_any(everything(), is.na)) %>%\n",
        "    nrow()"
      ],
      "metadata": {
        "colab": {
          "base_uri": "https://localhost:8080/",
          "height": 34
        },
        "id": "9TQmnc6_Mlq6",
        "outputId": "73968369-db35-4d44-a7d2-5c9453759533"
      },
      "id": "9TQmnc6_Mlq6",
      "execution_count": null,
      "outputs": [
        {
          "output_type": "display_data",
          "data": {
            "text/html": [
              "13702"
            ],
            "text/markdown": "13702",
            "text/latex": "13702",
            "text/plain": [
              "[1] 13702"
            ]
          },
          "metadata": {}
        }
      ]
    },
    {
      "cell_type": "code",
      "source": [
        "# Usuwamy zmienną 'state' która ma zbyt dużo kategorii\n",
        "df <- df[-20]"
      ],
      "metadata": {
        "id": "RBHEa-tzMlid"
      },
      "id": "RBHEa-tzMlid",
      "execution_count": null,
      "outputs": []
    },
    {
      "cell_type": "code",
      "source": [
        "# Usuwamy brakujące wartości\n",
        "df <- df %>%\n",
        "    filter(!if_any(everything(), is.na))"
      ],
      "metadata": {
        "id": "-E5wC0ttMlZt"
      },
      "id": "-E5wC0ttMlZt",
      "execution_count": null,
      "outputs": []
    },
    {
      "cell_type": "code",
      "source": [
        "# Tworzymy znormalizowany dataset z numerycznymi i kategorycznymi zmiennymi\n",
        "df_norm <- cbind(data.frame(sapply(df[1:12], function(x) min_max(x))), model.matrix(~ . - 1, data = df[13:20]), df[21])"
      ],
      "metadata": {
        "id": "nLWawsU5NX5K"
      },
      "id": "nLWawsU5NX5K",
      "execution_count": null,
      "outputs": []
    },
    {
      "cell_type": "code",
      "source": [
        "# Wyświetlamy wymiary znormalizowanego datasetu\n",
        "print(\"Dimensions of normalized dataset:\")\n",
        "dim(df_norm)"
      ],
      "metadata": {
        "colab": {
          "base_uri": "https://localhost:8080/",
          "height": 52
        },
        "id": "Ss0-z_-pNX2y",
        "outputId": "8304971d-57ab-443e-e888-7ab97544417b"
      },
      "id": "Ss0-z_-pNX2y",
      "execution_count": null,
      "outputs": [
        {
          "output_type": "stream",
          "name": "stdout",
          "text": [
            "[1] \"Dimensions of normalized dataset:\"\n"
          ]
        },
        {
          "output_type": "display_data",
          "data": {
            "text/html": [
              "<style>\n",
              ".list-inline {list-style: none; margin:0; padding: 0}\n",
              ".list-inline>li {display: inline-block}\n",
              ".list-inline>li:not(:last-child)::after {content: \"\\00b7\"; padding: 0 .5ex}\n",
              "</style>\n",
              "<ol class=list-inline><li>46168</li><li>82</li></ol>\n"
            ],
            "text/markdown": "1. 46168\n2. 82\n\n\n",
            "text/latex": "\\begin{enumerate*}\n\\item 46168\n\\item 82\n\\end{enumerate*}\n",
            "text/plain": [
              "[1] 46168    82"
            ]
          },
          "metadata": {}
        }
      ]
    },
    {
      "cell_type": "code",
      "source": [
        "# Sprawdzamy brakujące wartości\n",
        "print(\"Any NA values remaining?\")\n",
        "any(is.na(df_norm))"
      ],
      "metadata": {
        "colab": {
          "base_uri": "https://localhost:8080/",
          "height": 52
        },
        "id": "_09YTJszNXz1",
        "outputId": "1e00601d-0188-4590-e84b-f98399f4815b"
      },
      "id": "_09YTJszNXz1",
      "execution_count": null,
      "outputs": [
        {
          "output_type": "stream",
          "name": "stdout",
          "text": [
            "[1] \"Any NA values remaining?\"\n"
          ]
        },
        {
          "output_type": "display_data",
          "data": {
            "text/html": [
              "FALSE"
            ],
            "text/markdown": "FALSE",
            "text/latex": "FALSE",
            "text/plain": [
              "[1] FALSE"
            ]
          },
          "metadata": {}
        }
      ]
    },
    {
      "cell_type": "code",
      "source": [
        "# Podział na zbiór treningowy i testowy\n",
        "set.seed(123)\n",
        "split <- sample(1:nrow(df_norm), size = 0.75 * nrow(df_norm))\n",
        "X_train <- df_norm[split, ]\n",
        "X_test <- df_norm[-split, ]"
      ],
      "metadata": {
        "id": "lREo_1UBNXuQ"
      },
      "id": "lREo_1UBNXuQ",
      "execution_count": null,
      "outputs": []
    },
    {
      "cell_type": "code",
      "source": [
        "# Wyświetlamy rozkład klas\n",
        "print_class_dist <- function(data, name) {\n",
        "    cat(\"\\n\", name, \"dataset class distribution:\\n\")\n",
        "    prop.table(table(data$respondedMailing)) %>%\n",
        "    round(4) %>%\n",
        "    print()\n",
        "}\n",
        "\n",
        "print_class_dist(df_norm, \"Whole\")\n",
        "print_class_dist(X_train, \"Training\")\n",
        "print_class_dist(X_test, \"Test\")"
      ],
      "metadata": {
        "colab": {
          "base_uri": "https://localhost:8080/"
        },
        "id": "pxvmITxoNy71",
        "outputId": "6ba63c36-bc50-4ee2-c4bb-22ef7f70c642"
      },
      "id": "pxvmITxoNy71",
      "execution_count": null,
      "outputs": [
        {
          "output_type": "stream",
          "name": "stdout",
          "text": [
            "\n",
            " Whole dataset class distribution:\n",
            "\n",
            " FALSE   TRUE \n",
            "0.9483 0.0517 \n",
            "\n",
            " Training dataset class distribution:\n",
            "\n",
            " FALSE   TRUE \n",
            "0.9483 0.0517 \n",
            "\n",
            " Test dataset class distribution:\n",
            "\n",
            " FALSE   TRUE \n",
            "0.9482 0.0518 \n"
          ]
        }
      ]
    },
    {
      "cell_type": "code",
      "source": [
        "print_class_dist(df_norm, \"Whole\")\n",
        "print_class_dist(X_train, \"Training\")\n",
        "print_class_dist(X_test, \"Test\")"
      ],
      "metadata": {
        "colab": {
          "base_uri": "https://localhost:8080/"
        },
        "id": "imRpU2ArNy5S",
        "outputId": "4af16ac2-63df-4eaa-83f0-725389bb48ba"
      },
      "id": "imRpU2ArNy5S",
      "execution_count": null,
      "outputs": [
        {
          "output_type": "stream",
          "name": "stdout",
          "text": [
            "\n",
            " Whole dataset class distribution:\n",
            "\n",
            " FALSE   TRUE \n",
            "0.9483 0.0517 \n",
            "\n",
            " Training dataset class distribution:\n",
            "\n",
            " FALSE   TRUE \n",
            "0.9483 0.0517 \n",
            "\n",
            " Test dataset class distribution:\n",
            "\n",
            " FALSE   TRUE \n",
            "0.9482 0.0518 \n"
          ]
        }
      ]
    },
    {
      "cell_type": "code",
      "source": [
        "# Używamy SMOTE do zbalansowania danych treningowych\n",
        "smote_data <- smote(respondedMailing ~ ., data = X_train, perc.over = 9, perc.under = 1.1, k = 5)\n",
        "\n",
        "print_class_dist(smote_data, \"SMOTE-balanced\")\n",
        "print(paste(\"Oryginalny training set size:\", nrow(X_train)))\n",
        "print(paste(\"SMOTE-balanced training set size:\", nrow(smote_data)))"
      ],
      "metadata": {
        "colab": {
          "base_uri": "https://localhost:8080/"
        },
        "id": "y4ZOvO2gNy1r",
        "outputId": "68327795-9fd4-4127-d8a3-acfa51280f19"
      },
      "id": "y4ZOvO2gNy1r",
      "execution_count": null,
      "outputs": [
        {
          "output_type": "stream",
          "name": "stdout",
          "text": [
            "\n",
            " SMOTE-balanced dataset class distribution:\n",
            "\n",
            " FALSE   TRUE \n",
            "0.4975 0.5025 \n",
            "[1] \"Oryginalny training set size: 34626\"\n",
            "[1] \"SMOTE-balanced training set size: 35640\"\n"
          ]
        }
      ]
    },
    {
      "cell_type": "code",
      "source": [
        "# Zmieniamy zbiór treningowy\n",
        "X_train <- smote_data"
      ],
      "metadata": {
        "id": "pvtMOgGbOMzA"
      },
      "id": "pvtMOgGbOMzA",
      "execution_count": null,
      "outputs": []
    },
    {
      "cell_type": "code",
      "source": [
        "# Podział na feature'y i labels\n",
        "train_labels <- X_train$respondedMailing\n",
        "test_labels <- X_test$respondedMailing"
      ],
      "metadata": {
        "id": "dMkony14OMwQ"
      },
      "id": "dMkony14OMwQ",
      "execution_count": null,
      "outputs": []
    },
    {
      "cell_type": "code",
      "source": [
        "# Usuwamy zmienną 'respondedMailing'\n",
        "X_train <- X_train %>% select(-respondedMailing)\n",
        "X_test <- X_test %>% select(-respondedMailing)"
      ],
      "metadata": {
        "id": "0v6jfVr7OMrq"
      },
      "id": "0v6jfVr7OMrq",
      "execution_count": null,
      "outputs": []
    },
    {
      "cell_type": "code",
      "source": [
        "# Uzyskujemy predykcje\n",
        "set.seed(123)\n",
        "predictions <- knn(train = X_train, test = X_test, cl = train_labels, k = 5)"
      ],
      "metadata": {
        "id": "3EdVG0ltOiAP"
      },
      "id": "3EdVG0ltOiAP",
      "execution_count": null,
      "outputs": []
    },
    {
      "cell_type": "code",
      "source": [
        "# Tworzymy macierz pomyłek\n",
        "conf_matrix <- table(Actual = test_labels, Predicted = predictions)\n",
        "print(\"Confusion Matrix:\")\n",
        "print(conf_matrix)"
      ],
      "metadata": {
        "colab": {
          "base_uri": "https://localhost:8080/"
        },
        "id": "KUKDqNzjOh6J",
        "outputId": "5c7b416e-b77f-410a-9132-e571d8945566"
      },
      "id": "KUKDqNzjOh6J",
      "execution_count": null,
      "outputs": [
        {
          "output_type": "stream",
          "name": "stdout",
          "text": [
            "[1] \"Confusion Matrix:\"\n",
            "       Predicted\n",
            "Actual  FALSE TRUE\n",
            "  FALSE  9507 1437\n",
            "  TRUE    526   72\n"
          ]
        }
      ]
    },
    {
      "cell_type": "code",
      "source": [
        "# Obliczamy dokładność\n",
        "accuracy <- sum(diag(conf_matrix)) / sum(conf_matrix)\n",
        "cat(\"\\nAccuracy:\", round(accuracy * 100, 2), \"%\\n\")\n",
        "\n",
        "# Obliczamy precyzję, recall i f1 score\n",
        "precision <- conf_matrix[2,2] / sum(conf_matrix[,2])\n",
        "recall <- conf_matrix[2,2] / sum(conf_matrix[2,])\n",
        "f1_score <- 2 * (precision * recall) / (precision + recall)\n",
        "\n",
        "cat(\"\\nInne metryki:\\n\")\n",
        "cat(\"Precision:\", round(precision * 100, 2), \"%\\n\")\n",
        "cat(\"Recall:\", round(recall * 100, 2), \"%\\n\")\n",
        "cat(\"F1 Score:\", round(f1_score * 100, 2), \"%\\n\")"
      ],
      "metadata": {
        "colab": {
          "base_uri": "https://localhost:8080/"
        },
        "id": "FMdszrNzOwRz",
        "outputId": "ad46ad8e-b82d-4a0d-d9e3-3b111b6b6d57"
      },
      "id": "FMdszrNzOwRz",
      "execution_count": null,
      "outputs": [
        {
          "output_type": "stream",
          "name": "stdout",
          "text": [
            "\n",
            "Accuracy: 82.99 %\n",
            "\n",
            "Inne metryki:\n",
            "Precision: 4.77 %\n",
            "Recall: 12.04 %\n",
            "F1 Score: 6.83 %\n"
          ]
        }
      ]
    }
  ],
  "metadata": {
    "jupytext": {
      "cell_metadata_filter": "tags,-all",
      "main_language": "R",
      "notebook_metadata_filter": "-all"
    },
    "language_info": {
      "name": "R"
    },
    "colab": {
      "provenance": []
    },
    "kernelspec": {
      "name": "ir",
      "display_name": "R"
    }
  },
  "nbformat": 4,
  "nbformat_minor": 5
}