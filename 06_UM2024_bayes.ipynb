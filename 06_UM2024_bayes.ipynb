{
  "cells": [
    {
      "cell_type": "markdown",
      "id": "2babd66c",
      "metadata": {
        "id": "2babd66c"
      },
      "source": [
        "# Klasyfikacja probabilistyczna"
      ]
    },
    {
      "cell_type": "markdown",
      "id": "edac1518",
      "metadata": {
        "id": "edac1518"
      },
      "source": [
        "## Naiwny klasyfikator Bayesa\n",
        "\n",
        "Zapoznaj się z materiałami dostępnymi w [Przewodniku po pakiecie R](http://pbiecek.github.io/Przewodnik/Predykcja/naiwny_bayes.html) oraz [RPubs](https://rpubs.com/mmazurek/322903) oraz wykonaj samodzielnie w RStudio omawiane w nich przykłady. Następnie wykorzystaj naiwny klasyfikator Bayesa do rozwiązania problemu klasyfikacji wiadomości e-mail.\n",
        "\n",
        "1. Zaimportuj (`read_csv`) i wyświetl (funkcja `head`) dane z pliku `email.csv`"
      ]
    },
    {
      "cell_type": "code",
      "execution_count": null,
      "id": "0013b32e",
      "metadata": {
        "tags": [
          "remove_cell"
        ],
        "colab": {
          "base_uri": "https://localhost:8080/",
          "height": 651
        },
        "id": "0013b32e",
        "outputId": "3ca37a65-18fe-451f-f7f7-5343fb7c5c4d"
      },
      "outputs": [
        {
          "output_type": "stream",
          "name": "stderr",
          "text": [
            "Installing package into ‘/usr/local/lib/R/site-library’\n",
            "(as ‘lib’ is unspecified)\n",
            "\n",
            "── \u001b[1mAttaching core tidyverse packages\u001b[22m ──────────────────────── tidyverse 2.0.0 ──\n",
            "\u001b[32m✔\u001b[39m \u001b[34mdplyr    \u001b[39m 1.1.4     \u001b[32m✔\u001b[39m \u001b[34mreadr    \u001b[39m 2.1.5\n",
            "\u001b[32m✔\u001b[39m \u001b[34mforcats  \u001b[39m 1.0.0     \u001b[32m✔\u001b[39m \u001b[34mstringr  \u001b[39m 1.5.1\n",
            "\u001b[32m✔\u001b[39m \u001b[34mggplot2  \u001b[39m 3.5.1     \u001b[32m✔\u001b[39m \u001b[34mtibble   \u001b[39m 3.2.1\n",
            "\u001b[32m✔\u001b[39m \u001b[34mlubridate\u001b[39m 1.9.3     \u001b[32m✔\u001b[39m \u001b[34mtidyr    \u001b[39m 1.3.1\n",
            "\u001b[32m✔\u001b[39m \u001b[34mpurrr    \u001b[39m 1.0.2     \n",
            "── \u001b[1mConflicts\u001b[22m ────────────────────────────────────────── tidyverse_conflicts() ──\n",
            "\u001b[31m✖\u001b[39m \u001b[34mdplyr\u001b[39m::\u001b[32mfilter()\u001b[39m masks \u001b[34mstats\u001b[39m::filter()\n",
            "\u001b[31m✖\u001b[39m \u001b[34mdplyr\u001b[39m::\u001b[32mlag()\u001b[39m    masks \u001b[34mstats\u001b[39m::lag()\n",
            "\u001b[36mℹ\u001b[39m Use the conflicted package (\u001b[3m\u001b[34m<http://conflicted.r-lib.org/>\u001b[39m\u001b[23m) to force all conflicts to become errors\n",
            "\u001b[1mRows: \u001b[22m\u001b[34m1681\u001b[39m \u001b[1mColumns: \u001b[22m\u001b[34m1103\u001b[39m\n",
            "\u001b[36m──\u001b[39m \u001b[1mColumn specification\u001b[22m \u001b[36m────────────────────────────────────────────────────────\u001b[39m\n",
            "\u001b[1mDelimiter:\u001b[22m \",\"\n",
            "\u001b[31mchr\u001b[39m    (1): message_label\n",
            "\u001b[32mdbl\u001b[39m (1102): message_index, ability, abuse, accept, acceptance, accepted, acc...\n",
            "\n",
            "\u001b[36mℹ\u001b[39m Use `spec()` to retrieve the full column specification for this data.\n",
            "\u001b[36mℹ\u001b[39m Specify the column types or set `show_col_types = FALSE` to quiet this message.\n"
          ]
        },
        {
          "output_type": "display_data",
          "data": {
            "text/html": [
              "<table class=\"dataframe\">\n",
              "<caption>A tibble: 6 × 1103</caption>\n",
              "<thead>\n",
              "\t<tr><th scope=col>message_index</th><th scope=col>message_label</th><th scope=col>ability</th><th scope=col>abuse</th><th scope=col>accept</th><th scope=col>acceptance</th><th scope=col>accepted</th><th scope=col>access</th><th scope=col>account</th><th scope=col>accounting</th><th scope=col>⋯</th><th scope=col>worldwide</th><th scope=col>worth</th><th scope=col>write</th><th scope=col>writing</th><th scope=col>www</th><th scope=col>xls</th><th scope=col>xp</th><th scope=col>yahoo</th><th scope=col>yesterday</th><th scope=col>york</th></tr>\n",
              "\t<tr><th scope=col>&lt;dbl&gt;</th><th scope=col>&lt;chr&gt;</th><th scope=col>&lt;dbl&gt;</th><th scope=col>&lt;dbl&gt;</th><th scope=col>&lt;dbl&gt;</th><th scope=col>&lt;dbl&gt;</th><th scope=col>&lt;dbl&gt;</th><th scope=col>&lt;dbl&gt;</th><th scope=col>&lt;dbl&gt;</th><th scope=col>&lt;dbl&gt;</th><th scope=col>⋯</th><th scope=col>&lt;dbl&gt;</th><th scope=col>&lt;dbl&gt;</th><th scope=col>&lt;dbl&gt;</th><th scope=col>&lt;dbl&gt;</th><th scope=col>&lt;dbl&gt;</th><th scope=col>&lt;dbl&gt;</th><th scope=col>&lt;dbl&gt;</th><th scope=col>&lt;dbl&gt;</th><th scope=col>&lt;dbl&gt;</th><th scope=col>&lt;dbl&gt;</th></tr>\n",
              "</thead>\n",
              "<tbody>\n",
              "\t<tr><td>12</td><td>ham</td><td>0</td><td>0</td><td>0</td><td>0</td><td>0</td><td>0</td><td>0</td><td>0</td><td>⋯</td><td>0</td><td>0</td><td>0</td><td>0</td><td>0</td><td>0</td><td>0</td><td>0</td><td>0</td><td>0</td></tr>\n",
              "\t<tr><td>21</td><td>ham</td><td>0</td><td>0</td><td>0</td><td>0</td><td>0</td><td>0</td><td>0</td><td>0</td><td>⋯</td><td>0</td><td>0</td><td>0</td><td>0</td><td>0</td><td>0</td><td>0</td><td>0</td><td>0</td><td>0</td></tr>\n",
              "\t<tr><td>29</td><td>ham</td><td>0</td><td>0</td><td>0</td><td>0</td><td>0</td><td>0</td><td>0</td><td>0</td><td>⋯</td><td>0</td><td>0</td><td>0</td><td>0</td><td>0</td><td>0</td><td>0</td><td>0</td><td>0</td><td>0</td></tr>\n",
              "\t<tr><td>43</td><td>ham</td><td>0</td><td>0</td><td>0</td><td>0</td><td>0</td><td>0</td><td>0</td><td>0</td><td>⋯</td><td>0</td><td>0</td><td>0</td><td>0</td><td>0</td><td>0</td><td>0</td><td>0</td><td>0</td><td>0</td></tr>\n",
              "\t<tr><td>59</td><td>ham</td><td>0</td><td>0</td><td>0</td><td>0</td><td>0</td><td>0</td><td>0</td><td>0</td><td>⋯</td><td>0</td><td>0</td><td>0</td><td>0</td><td>0</td><td>1</td><td>0</td><td>0</td><td>0</td><td>0</td></tr>\n",
              "\t<tr><td>68</td><td>ham</td><td>0</td><td>0</td><td>0</td><td>0</td><td>0</td><td>0</td><td>0</td><td>0</td><td>⋯</td><td>0</td><td>0</td><td>0</td><td>0</td><td>0</td><td>0</td><td>0</td><td>0</td><td>0</td><td>0</td></tr>\n",
              "</tbody>\n",
              "</table>\n"
            ],
            "text/markdown": "\nA tibble: 6 × 1103\n\n| message_index &lt;dbl&gt; | message_label &lt;chr&gt; | ability &lt;dbl&gt; | abuse &lt;dbl&gt; | accept &lt;dbl&gt; | acceptance &lt;dbl&gt; | accepted &lt;dbl&gt; | access &lt;dbl&gt; | account &lt;dbl&gt; | accounting &lt;dbl&gt; | ⋯ ⋯ | worldwide &lt;dbl&gt; | worth &lt;dbl&gt; | write &lt;dbl&gt; | writing &lt;dbl&gt; | www &lt;dbl&gt; | xls &lt;dbl&gt; | xp &lt;dbl&gt; | yahoo &lt;dbl&gt; | yesterday &lt;dbl&gt; | york &lt;dbl&gt; |\n|---|---|---|---|---|---|---|---|---|---|---|---|---|---|---|---|---|---|---|---|---|\n| 12 | ham | 0 | 0 | 0 | 0 | 0 | 0 | 0 | 0 | ⋯ | 0 | 0 | 0 | 0 | 0 | 0 | 0 | 0 | 0 | 0 |\n| 21 | ham | 0 | 0 | 0 | 0 | 0 | 0 | 0 | 0 | ⋯ | 0 | 0 | 0 | 0 | 0 | 0 | 0 | 0 | 0 | 0 |\n| 29 | ham | 0 | 0 | 0 | 0 | 0 | 0 | 0 | 0 | ⋯ | 0 | 0 | 0 | 0 | 0 | 0 | 0 | 0 | 0 | 0 |\n| 43 | ham | 0 | 0 | 0 | 0 | 0 | 0 | 0 | 0 | ⋯ | 0 | 0 | 0 | 0 | 0 | 0 | 0 | 0 | 0 | 0 |\n| 59 | ham | 0 | 0 | 0 | 0 | 0 | 0 | 0 | 0 | ⋯ | 0 | 0 | 0 | 0 | 0 | 1 | 0 | 0 | 0 | 0 |\n| 68 | ham | 0 | 0 | 0 | 0 | 0 | 0 | 0 | 0 | ⋯ | 0 | 0 | 0 | 0 | 0 | 0 | 0 | 0 | 0 | 0 |\n\n",
            "text/latex": "A tibble: 6 × 1103\n\\begin{tabular}{lllllllllllllllllllll}\n message\\_index & message\\_label & ability & abuse & accept & acceptance & accepted & access & account & accounting & ⋯ & worldwide & worth & write & writing & www & xls & xp & yahoo & yesterday & york\\\\\n <dbl> & <chr> & <dbl> & <dbl> & <dbl> & <dbl> & <dbl> & <dbl> & <dbl> & <dbl> & ⋯ & <dbl> & <dbl> & <dbl> & <dbl> & <dbl> & <dbl> & <dbl> & <dbl> & <dbl> & <dbl>\\\\\n\\hline\n\t 12 & ham & 0 & 0 & 0 & 0 & 0 & 0 & 0 & 0 & ⋯ & 0 & 0 & 0 & 0 & 0 & 0 & 0 & 0 & 0 & 0\\\\\n\t 21 & ham & 0 & 0 & 0 & 0 & 0 & 0 & 0 & 0 & ⋯ & 0 & 0 & 0 & 0 & 0 & 0 & 0 & 0 & 0 & 0\\\\\n\t 29 & ham & 0 & 0 & 0 & 0 & 0 & 0 & 0 & 0 & ⋯ & 0 & 0 & 0 & 0 & 0 & 0 & 0 & 0 & 0 & 0\\\\\n\t 43 & ham & 0 & 0 & 0 & 0 & 0 & 0 & 0 & 0 & ⋯ & 0 & 0 & 0 & 0 & 0 & 0 & 0 & 0 & 0 & 0\\\\\n\t 59 & ham & 0 & 0 & 0 & 0 & 0 & 0 & 0 & 0 & ⋯ & 0 & 0 & 0 & 0 & 0 & 1 & 0 & 0 & 0 & 0\\\\\n\t 68 & ham & 0 & 0 & 0 & 0 & 0 & 0 & 0 & 0 & ⋯ & 0 & 0 & 0 & 0 & 0 & 0 & 0 & 0 & 0 & 0\\\\\n\\end{tabular}\n",
            "text/plain": [
              "  message_index message_label ability abuse accept acceptance accepted access\n",
              "1 12            ham           0       0     0      0          0        0     \n",
              "2 21            ham           0       0     0      0          0        0     \n",
              "3 29            ham           0       0     0      0          0        0     \n",
              "4 43            ham           0       0     0      0          0        0     \n",
              "5 59            ham           0       0     0      0          0        0     \n",
              "6 68            ham           0       0     0      0          0        0     \n",
              "  account accounting ⋯ worldwide worth write writing www xls xp yahoo yesterday\n",
              "1 0       0          ⋯ 0         0     0     0       0   0   0  0     0        \n",
              "2 0       0          ⋯ 0         0     0     0       0   0   0  0     0        \n",
              "3 0       0          ⋯ 0         0     0     0       0   0   0  0     0        \n",
              "4 0       0          ⋯ 0         0     0     0       0   0   0  0     0        \n",
              "5 0       0          ⋯ 0         0     0     0       0   1   0  0     0        \n",
              "6 0       0          ⋯ 0         0     0     0       0   0   0  0     0        \n",
              "  york\n",
              "1 0   \n",
              "2 0   \n",
              "3 0   \n",
              "4 0   \n",
              "5 0   \n",
              "6 0   "
            ]
          },
          "metadata": {}
        }
      ],
      "source": [
        "#install.packages(\"tidyverse\")\n",
        "library(tidyverse)\n",
        "\n",
        "email <- read_csv(\"email.csv\")\n",
        "\n",
        "head(email)"
      ]
    },
    {
      "cell_type": "markdown",
      "id": "d70a831a",
      "metadata": {
        "id": "d70a831a"
      },
      "source": [
        "2. Przekształć zmienną `message_label` do typu kategorialnego."
      ]
    },
    {
      "cell_type": "code",
      "execution_count": null,
      "id": "c9d19f23",
      "metadata": {
        "tags": [
          "remove_cell"
        ],
        "id": "c9d19f23"
      },
      "outputs": [],
      "source": [
        "email$message_label <- as.factor(email$message_label)"
      ]
    },
    {
      "cell_type": "markdown",
      "id": "e1175f67",
      "metadata": {
        "id": "e1175f67"
      },
      "source": [
        "3. Za pomocą funkcji `gather` przekształć zbiór danych tak, aby zamiast kolumny z częstością dla każdego wyrazu mieć dwie kolumny: jedną z wyrazem, drugą z częstością"
      ]
    },
    {
      "cell_type": "code",
      "execution_count": null,
      "id": "f9c2effa",
      "metadata": {
        "eval": false,
        "include": true,
        "colab": {
          "base_uri": "https://localhost:8080/",
          "height": 1000
        },
        "id": "f9c2effa",
        "outputId": "efa8ce84-36e1-478e-ba30-15b49ac21c5c"
      },
      "outputs": [
        {
          "output_type": "display_data",
          "data": {
            "text/html": [
              "<table class=\"dataframe\">\n",
              "<caption>A tibble: 1850781 × 4</caption>\n",
              "<thead>\n",
              "\t<tr><th scope=col>message_index</th><th scope=col>message_label</th><th scope=col>word</th><th scope=col>count</th></tr>\n",
              "\t<tr><th scope=col>&lt;dbl&gt;</th><th scope=col>&lt;fct&gt;</th><th scope=col>&lt;chr&gt;</th><th scope=col>&lt;dbl&gt;</th></tr>\n",
              "</thead>\n",
              "<tbody>\n",
              "\t<tr><td> 12</td><td>ham </td><td>ability</td><td>0</td></tr>\n",
              "\t<tr><td> 21</td><td>ham </td><td>ability</td><td>0</td></tr>\n",
              "\t<tr><td> 29</td><td>ham </td><td>ability</td><td>0</td></tr>\n",
              "\t<tr><td> 43</td><td>ham </td><td>ability</td><td>0</td></tr>\n",
              "\t<tr><td> 59</td><td>ham </td><td>ability</td><td>0</td></tr>\n",
              "\t<tr><td> 68</td><td>ham </td><td>ability</td><td>0</td></tr>\n",
              "\t<tr><td> 72</td><td>ham </td><td>ability</td><td>0</td></tr>\n",
              "\t<tr><td>104</td><td>ham </td><td>ability</td><td>0</td></tr>\n",
              "\t<tr><td>105</td><td>ham </td><td>ability</td><td>0</td></tr>\n",
              "\t<tr><td>110</td><td>ham </td><td>ability</td><td>0</td></tr>\n",
              "\t<tr><td>112</td><td>ham </td><td>ability</td><td>0</td></tr>\n",
              "\t<tr><td>126</td><td>ham </td><td>ability</td><td>0</td></tr>\n",
              "\t<tr><td>132</td><td>ham </td><td>ability</td><td>0</td></tr>\n",
              "\t<tr><td>140</td><td>ham </td><td>ability</td><td>0</td></tr>\n",
              "\t<tr><td>177</td><td>spam</td><td>ability</td><td>0</td></tr>\n",
              "\t<tr><td>189</td><td>spam</td><td>ability</td><td>0</td></tr>\n",
              "\t<tr><td>239</td><td>spam</td><td>ability</td><td>0</td></tr>\n",
              "\t<tr><td>271</td><td>ham </td><td>ability</td><td>0</td></tr>\n",
              "\t<tr><td>315</td><td>spam</td><td>ability</td><td>0</td></tr>\n",
              "\t<tr><td>321</td><td>ham </td><td>ability</td><td>0</td></tr>\n",
              "\t<tr><td>340</td><td>ham </td><td>ability</td><td>0</td></tr>\n",
              "\t<tr><td>401</td><td>ham </td><td>ability</td><td>0</td></tr>\n",
              "\t<tr><td>403</td><td>ham </td><td>ability</td><td>0</td></tr>\n",
              "\t<tr><td>407</td><td>ham </td><td>ability</td><td>0</td></tr>\n",
              "\t<tr><td>416</td><td>ham </td><td>ability</td><td>0</td></tr>\n",
              "\t<tr><td>464</td><td>ham </td><td>ability</td><td>0</td></tr>\n",
              "\t<tr><td>492</td><td>spam</td><td>ability</td><td>0</td></tr>\n",
              "\t<tr><td>493</td><td>ham </td><td>ability</td><td>0</td></tr>\n",
              "\t<tr><td>499</td><td>spam</td><td>ability</td><td>0</td></tr>\n",
              "\t<tr><td>510</td><td>ham </td><td>ability</td><td>0</td></tr>\n",
              "\t<tr><td>⋮</td><td>⋮</td><td>⋮</td><td>⋮</td></tr>\n",
              "\t<tr><td>33274</td><td>ham </td><td>york</td><td>0</td></tr>\n",
              "\t<tr><td>33307</td><td>spam</td><td>york</td><td>0</td></tr>\n",
              "\t<tr><td>33312</td><td>ham </td><td>york</td><td>0</td></tr>\n",
              "\t<tr><td>33320</td><td>spam</td><td>york</td><td>0</td></tr>\n",
              "\t<tr><td>33323</td><td>ham </td><td>york</td><td>0</td></tr>\n",
              "\t<tr><td>33347</td><td>ham </td><td>york</td><td>0</td></tr>\n",
              "\t<tr><td>33386</td><td>spam</td><td>york</td><td>0</td></tr>\n",
              "\t<tr><td>33401</td><td>spam</td><td>york</td><td>0</td></tr>\n",
              "\t<tr><td>33408</td><td>spam</td><td>york</td><td>0</td></tr>\n",
              "\t<tr><td>33413</td><td>spam</td><td>york</td><td>0</td></tr>\n",
              "\t<tr><td>33414</td><td>spam</td><td>york</td><td>0</td></tr>\n",
              "\t<tr><td>33462</td><td>spam</td><td>york</td><td>0</td></tr>\n",
              "\t<tr><td>33475</td><td>spam</td><td>york</td><td>0</td></tr>\n",
              "\t<tr><td>33494</td><td>ham </td><td>york</td><td>0</td></tr>\n",
              "\t<tr><td>33501</td><td>ham </td><td>york</td><td>0</td></tr>\n",
              "\t<tr><td>33505</td><td>spam</td><td>york</td><td>0</td></tr>\n",
              "\t<tr><td>33516</td><td>spam</td><td>york</td><td>0</td></tr>\n",
              "\t<tr><td>33536</td><td>spam</td><td>york</td><td>0</td></tr>\n",
              "\t<tr><td>33541</td><td>spam</td><td>york</td><td>0</td></tr>\n",
              "\t<tr><td>33549</td><td>spam</td><td>york</td><td>0</td></tr>\n",
              "\t<tr><td>33559</td><td>ham </td><td>york</td><td>0</td></tr>\n",
              "\t<tr><td>33565</td><td>spam</td><td>york</td><td>0</td></tr>\n",
              "\t<tr><td>33569</td><td>spam</td><td>york</td><td>0</td></tr>\n",
              "\t<tr><td>33574</td><td>spam</td><td>york</td><td>0</td></tr>\n",
              "\t<tr><td>33607</td><td>spam</td><td>york</td><td>0</td></tr>\n",
              "\t<tr><td>33611</td><td>ham </td><td>york</td><td>0</td></tr>\n",
              "\t<tr><td>33657</td><td>ham </td><td>york</td><td>0</td></tr>\n",
              "\t<tr><td>33697</td><td>spam</td><td>york</td><td>0</td></tr>\n",
              "\t<tr><td>33703</td><td>spam</td><td>york</td><td>0</td></tr>\n",
              "\t<tr><td>33716</td><td>spam</td><td>york</td><td>0</td></tr>\n",
              "</tbody>\n",
              "</table>\n"
            ],
            "text/markdown": "\nA tibble: 1850781 × 4\n\n| message_index &lt;dbl&gt; | message_label &lt;fct&gt; | word &lt;chr&gt; | count &lt;dbl&gt; |\n|---|---|---|---|\n|  12 | ham  | ability | 0 |\n|  21 | ham  | ability | 0 |\n|  29 | ham  | ability | 0 |\n|  43 | ham  | ability | 0 |\n|  59 | ham  | ability | 0 |\n|  68 | ham  | ability | 0 |\n|  72 | ham  | ability | 0 |\n| 104 | ham  | ability | 0 |\n| 105 | ham  | ability | 0 |\n| 110 | ham  | ability | 0 |\n| 112 | ham  | ability | 0 |\n| 126 | ham  | ability | 0 |\n| 132 | ham  | ability | 0 |\n| 140 | ham  | ability | 0 |\n| 177 | spam | ability | 0 |\n| 189 | spam | ability | 0 |\n| 239 | spam | ability | 0 |\n| 271 | ham  | ability | 0 |\n| 315 | spam | ability | 0 |\n| 321 | ham  | ability | 0 |\n| 340 | ham  | ability | 0 |\n| 401 | ham  | ability | 0 |\n| 403 | ham  | ability | 0 |\n| 407 | ham  | ability | 0 |\n| 416 | ham  | ability | 0 |\n| 464 | ham  | ability | 0 |\n| 492 | spam | ability | 0 |\n| 493 | ham  | ability | 0 |\n| 499 | spam | ability | 0 |\n| 510 | ham  | ability | 0 |\n| ⋮ | ⋮ | ⋮ | ⋮ |\n| 33274 | ham  | york | 0 |\n| 33307 | spam | york | 0 |\n| 33312 | ham  | york | 0 |\n| 33320 | spam | york | 0 |\n| 33323 | ham  | york | 0 |\n| 33347 | ham  | york | 0 |\n| 33386 | spam | york | 0 |\n| 33401 | spam | york | 0 |\n| 33408 | spam | york | 0 |\n| 33413 | spam | york | 0 |\n| 33414 | spam | york | 0 |\n| 33462 | spam | york | 0 |\n| 33475 | spam | york | 0 |\n| 33494 | ham  | york | 0 |\n| 33501 | ham  | york | 0 |\n| 33505 | spam | york | 0 |\n| 33516 | spam | york | 0 |\n| 33536 | spam | york | 0 |\n| 33541 | spam | york | 0 |\n| 33549 | spam | york | 0 |\n| 33559 | ham  | york | 0 |\n| 33565 | spam | york | 0 |\n| 33569 | spam | york | 0 |\n| 33574 | spam | york | 0 |\n| 33607 | spam | york | 0 |\n| 33611 | ham  | york | 0 |\n| 33657 | ham  | york | 0 |\n| 33697 | spam | york | 0 |\n| 33703 | spam | york | 0 |\n| 33716 | spam | york | 0 |\n\n",
            "text/latex": "A tibble: 1850781 × 4\n\\begin{tabular}{llll}\n message\\_index & message\\_label & word & count\\\\\n <dbl> & <fct> & <chr> & <dbl>\\\\\n\\hline\n\t  12 & ham  & ability & 0\\\\\n\t  21 & ham  & ability & 0\\\\\n\t  29 & ham  & ability & 0\\\\\n\t  43 & ham  & ability & 0\\\\\n\t  59 & ham  & ability & 0\\\\\n\t  68 & ham  & ability & 0\\\\\n\t  72 & ham  & ability & 0\\\\\n\t 104 & ham  & ability & 0\\\\\n\t 105 & ham  & ability & 0\\\\\n\t 110 & ham  & ability & 0\\\\\n\t 112 & ham  & ability & 0\\\\\n\t 126 & ham  & ability & 0\\\\\n\t 132 & ham  & ability & 0\\\\\n\t 140 & ham  & ability & 0\\\\\n\t 177 & spam & ability & 0\\\\\n\t 189 & spam & ability & 0\\\\\n\t 239 & spam & ability & 0\\\\\n\t 271 & ham  & ability & 0\\\\\n\t 315 & spam & ability & 0\\\\\n\t 321 & ham  & ability & 0\\\\\n\t 340 & ham  & ability & 0\\\\\n\t 401 & ham  & ability & 0\\\\\n\t 403 & ham  & ability & 0\\\\\n\t 407 & ham  & ability & 0\\\\\n\t 416 & ham  & ability & 0\\\\\n\t 464 & ham  & ability & 0\\\\\n\t 492 & spam & ability & 0\\\\\n\t 493 & ham  & ability & 0\\\\\n\t 499 & spam & ability & 0\\\\\n\t 510 & ham  & ability & 0\\\\\n\t ⋮ & ⋮ & ⋮ & ⋮\\\\\n\t 33274 & ham  & york & 0\\\\\n\t 33307 & spam & york & 0\\\\\n\t 33312 & ham  & york & 0\\\\\n\t 33320 & spam & york & 0\\\\\n\t 33323 & ham  & york & 0\\\\\n\t 33347 & ham  & york & 0\\\\\n\t 33386 & spam & york & 0\\\\\n\t 33401 & spam & york & 0\\\\\n\t 33408 & spam & york & 0\\\\\n\t 33413 & spam & york & 0\\\\\n\t 33414 & spam & york & 0\\\\\n\t 33462 & spam & york & 0\\\\\n\t 33475 & spam & york & 0\\\\\n\t 33494 & ham  & york & 0\\\\\n\t 33501 & ham  & york & 0\\\\\n\t 33505 & spam & york & 0\\\\\n\t 33516 & spam & york & 0\\\\\n\t 33536 & spam & york & 0\\\\\n\t 33541 & spam & york & 0\\\\\n\t 33549 & spam & york & 0\\\\\n\t 33559 & ham  & york & 0\\\\\n\t 33565 & spam & york & 0\\\\\n\t 33569 & spam & york & 0\\\\\n\t 33574 & spam & york & 0\\\\\n\t 33607 & spam & york & 0\\\\\n\t 33611 & ham  & york & 0\\\\\n\t 33657 & ham  & york & 0\\\\\n\t 33697 & spam & york & 0\\\\\n\t 33703 & spam & york & 0\\\\\n\t 33716 & spam & york & 0\\\\\n\\end{tabular}\n",
            "text/plain": [
              "        message_index message_label word    count\n",
              "1        12           ham           ability 0    \n",
              "2        21           ham           ability 0    \n",
              "3        29           ham           ability 0    \n",
              "4        43           ham           ability 0    \n",
              "5        59           ham           ability 0    \n",
              "6        68           ham           ability 0    \n",
              "7        72           ham           ability 0    \n",
              "8       104           ham           ability 0    \n",
              "9       105           ham           ability 0    \n",
              "10      110           ham           ability 0    \n",
              "11      112           ham           ability 0    \n",
              "12      126           ham           ability 0    \n",
              "13      132           ham           ability 0    \n",
              "14      140           ham           ability 0    \n",
              "15      177           spam          ability 0    \n",
              "16      189           spam          ability 0    \n",
              "17      239           spam          ability 0    \n",
              "18      271           ham           ability 0    \n",
              "19      315           spam          ability 0    \n",
              "20      321           ham           ability 0    \n",
              "21      340           ham           ability 0    \n",
              "22      401           ham           ability 0    \n",
              "23      403           ham           ability 0    \n",
              "24      407           ham           ability 0    \n",
              "25      416           ham           ability 0    \n",
              "26      464           ham           ability 0    \n",
              "27      492           spam          ability 0    \n",
              "28      493           ham           ability 0    \n",
              "29      499           spam          ability 0    \n",
              "30      510           ham           ability 0    \n",
              "⋮       ⋮             ⋮             ⋮       ⋮    \n",
              "1850752 33274         ham           york    0    \n",
              "1850753 33307         spam          york    0    \n",
              "1850754 33312         ham           york    0    \n",
              "1850755 33320         spam          york    0    \n",
              "1850756 33323         ham           york    0    \n",
              "1850757 33347         ham           york    0    \n",
              "1850758 33386         spam          york    0    \n",
              "1850759 33401         spam          york    0    \n",
              "1850760 33408         spam          york    0    \n",
              "1850761 33413         spam          york    0    \n",
              "1850762 33414         spam          york    0    \n",
              "1850763 33462         spam          york    0    \n",
              "1850764 33475         spam          york    0    \n",
              "1850765 33494         ham           york    0    \n",
              "1850766 33501         ham           york    0    \n",
              "1850767 33505         spam          york    0    \n",
              "1850768 33516         spam          york    0    \n",
              "1850769 33536         spam          york    0    \n",
              "1850770 33541         spam          york    0    \n",
              "1850771 33549         spam          york    0    \n",
              "1850772 33559         ham           york    0    \n",
              "1850773 33565         spam          york    0    \n",
              "1850774 33569         spam          york    0    \n",
              "1850775 33574         spam          york    0    \n",
              "1850776 33607         spam          york    0    \n",
              "1850777 33611         ham           york    0    \n",
              "1850778 33657         ham           york    0    \n",
              "1850779 33697         spam          york    0    \n",
              "1850780 33703         spam          york    0    \n",
              "1850781 33716         spam          york    0    "
            ]
          },
          "metadata": {}
        }
      ],
      "source": [
        "email %>%\n",
        "  gather(word, count, -message_index, -message_label)\n"
      ]
    },
    {
      "cell_type": "markdown",
      "id": "e2cbcf89",
      "metadata": {
        "id": "e2cbcf89"
      },
      "source": [
        "4. Pogrupuj dane według `word`, sumując zmienną `count` (sumę nazwij `occurence`) i posortuj wynik w malejącej kolejności `occurence`. Użyj funkcji `slice` do wyświetlenia tylko 10 wyrazów o najwyższej wartości `occurence`."
      ]
    },
    {
      "cell_type": "code",
      "execution_count": null,
      "id": "04374d8f",
      "metadata": {
        "tags": [
          "remove_cell"
        ],
        "colab": {
          "base_uri": "https://localhost:8080/"
        },
        "id": "04374d8f",
        "outputId": "1bc7cdd2-4938-49f3-8124-9b62eacef462"
      },
      "outputs": [
        {
          "output_type": "stream",
          "name": "stderr",
          "text": [
            "Installing package into ‘/usr/local/lib/R/site-library’\n",
            "(as ‘lib’ is unspecified)\n",
            "\n"
          ]
        },
        {
          "output_type": "stream",
          "name": "stdout",
          "text": [
            "\u001b[90m# A tibble: 10 × 2\u001b[39m\n",
            "   word        occurence\n",
            "   \u001b[3m\u001b[90m<chr>\u001b[39m\u001b[23m           \u001b[3m\u001b[90m<dbl>\u001b[39m\u001b[23m\n",
            "\u001b[90m 1\u001b[39m enron             382\n",
            "\u001b[90m 2\u001b[39m time              366\n",
            "\u001b[90m 3\u001b[39m http              284\n",
            "\u001b[90m 4\u001b[39m information       279\n",
            "\u001b[90m 5\u001b[39m message           266\n",
            "\u001b[90m 6\u001b[39m email             251\n",
            "\u001b[90m 7\u001b[39m mail              250\n",
            "\u001b[90m 8\u001b[39m business          216\n",
            "\u001b[90m 9\u001b[39m company           212\n",
            "\u001b[90m10\u001b[39m day               208\n"
          ]
        }
      ],
      "source": [
        "#install.packages(\"tidyr\")\n",
        "library(tidyr)\n",
        "\n",
        "top_words <- email %>%\n",
        "  gather(word, word_count, -message_index, -message_label) %>%\n",
        "  group_by(word) %>%\n",
        "  summarize(occurence = sum(as.numeric(word_count))) %>%\n",
        "  arrange(desc(occurence)) %>%\n",
        "  slice(1:10)\n",
        "\n",
        "print(top_words)"
      ]
    },
    {
      "cell_type": "markdown",
      "id": "7e475a59",
      "metadata": {
        "id": "7e475a59"
      },
      "source": [
        "5. W podobny sposób sprawdź, jakie 10 wyrazów pojawia się w zwykłych wiadomościach, a jakie w wiadomościach spam."
      ]
    },
    {
      "cell_type": "code",
      "execution_count": null,
      "id": "1aa417e7",
      "metadata": {
        "tags": [
          "remove_cell"
        ],
        "colab": {
          "base_uri": "https://localhost:8080/"
        },
        "id": "1aa417e7",
        "outputId": "6434f58d-7650-447b-c5e2-572997c0f296"
      },
      "outputs": [
        {
          "output_type": "stream",
          "name": "stdout",
          "text": [
            "\u001b[90m# A tibble: 10 × 2\u001b[39m\n",
            "   word      occurence\n",
            "   \u001b[3m\u001b[90m<chr>\u001b[39m\u001b[23m         \u001b[3m\u001b[90m<dbl>\u001b[39m\u001b[23m\n",
            "\u001b[90m 1\u001b[39m enron           382\n",
            "\u001b[90m 2\u001b[39m pmto            191\n",
            "\u001b[90m 3\u001b[39m time            185\n",
            "\u001b[90m 4\u001b[39m message         169\n",
            "\u001b[90m 5\u001b[39m ect             165\n",
            "\u001b[90m 6\u001b[39m forwarded       162\n",
            "\u001b[90m 7\u001b[39m questions       160\n",
            "\u001b[90m 8\u001b[39m hou             153\n",
            "\u001b[90m 9\u001b[39m amto            147\n",
            "\u001b[90m10\u001b[39m call            145\n",
            "\u001b[90m# A tibble: 10 × 2\u001b[39m\n",
            "   word        occurence\n",
            "   \u001b[3m\u001b[90m<chr>\u001b[39m\u001b[23m           \u001b[3m\u001b[90m<dbl>\u001b[39m\u001b[23m\n",
            "\u001b[90m 1\u001b[39m http              233\n",
            "\u001b[90m 2\u001b[39m time              181\n",
            "\u001b[90m 3\u001b[39m email             171\n",
            "\u001b[90m 4\u001b[39m information       148\n",
            "\u001b[90m 5\u001b[39m money             147\n",
            "\u001b[90m 6\u001b[39m company           141\n",
            "\u001b[90m 7\u001b[39m mail              137\n",
            "\u001b[90m 8\u001b[39m www               123\n",
            "\u001b[90m 9\u001b[39m free              121\n",
            "\u001b[90m10\u001b[39m business          120\n"
          ]
        }
      ],
      "source": [
        "top_words_ham <- email %>%\n",
        "  filter(message_label == \"ham\") %>%\n",
        "  gather(word, word_count, -message_index, -message_label) %>%\n",
        "  group_by(word) %>%\n",
        "  summarize(occurence = sum(as.numeric(word_count))) %>%\n",
        "  arrange(desc(occurence)) %>%\n",
        "  slice(1:10)\n",
        "\n",
        "print(top_words_ham)\n",
        "\n",
        "\n",
        "top_words_spam <- email %>%\n",
        "  filter(message_label == \"spam\") %>%\n",
        "  gather(word, word_count, -message_index, -message_label) %>%\n",
        "  group_by(word) %>%\n",
        "  summarize(occurence = sum(as.numeric(word_count))) %>%\n",
        "  arrange(desc(occurence)) %>%\n",
        "  slice(1:10)\n",
        "\n",
        "print(top_words_spam)"
      ]
    },
    {
      "cell_type": "markdown",
      "id": "b365a6f8",
      "metadata": {
        "id": "b365a6f8"
      },
      "source": [
        "6. Podziel dane na zbiory treningowy i testowy, stosując proporcję 75:25. Następnie wyświetl rozkłady klas dla wszystkich zbiorów danych (`prop.table`)."
      ]
    },
    {
      "cell_type": "code",
      "execution_count": null,
      "id": "0067a461",
      "metadata": {
        "tags": [
          "remove_cell"
        ],
        "colab": {
          "base_uri": "https://localhost:8080/"
        },
        "id": "0067a461",
        "outputId": "f2cb526e-2ff1-40cd-8982-fc2ea7b25728"
      },
      "outputs": [
        {
          "output_type": "stream",
          "name": "stderr",
          "text": [
            "Installing package into ‘/usr/local/lib/R/site-library’\n",
            "(as ‘lib’ is unspecified)\n",
            "\n",
            "also installing the dependencies ‘listenv’, ‘parallelly’, ‘future’, ‘globals’, ‘shape’, ‘future.apply’, ‘numDeriv’, ‘progressr’, ‘SQUAREM’, ‘diagram’, ‘lava’, ‘prodlim’, ‘proxy’, ‘iterators’, ‘clock’, ‘gower’, ‘hardhat’, ‘ipred’, ‘timeDate’, ‘e1071’, ‘foreach’, ‘ModelMetrics’, ‘plyr’, ‘pROC’, ‘recipes’, ‘reshape2’\n",
            "\n",
            "\n",
            "Loading required package: lattice\n",
            "\n",
            "\n",
            "Attaching package: ‘caret’\n",
            "\n",
            "\n",
            "The following object is masked from ‘package:purrr’:\n",
            "\n",
            "    lift\n",
            "\n",
            "\n"
          ]
        },
        {
          "output_type": "stream",
          "name": "stdout",
          "text": [
            "\n",
            "      ham      spam \n",
            "0.4920761 0.5079239 \n",
            "\n",
            "      ham      spam \n",
            "0.4916468 0.5083532 \n"
          ]
        }
      ],
      "source": [
        "#install.packages(\"caret\")\n",
        "library(caret)\n",
        "\n",
        "set.seed(123)\n",
        "trainIndex <- createDataPartition(email$message_label, p = .75, list = FALSE)\n",
        "email_train <- email[trainIndex,]\n",
        "email_test <- email[-trainIndex,]\n",
        "\n",
        "print(prop.table(table(email_train$message_label)))\n",
        "print(prop.table(table(email_test$message_label)))"
      ]
    },
    {
      "cell_type": "markdown",
      "id": "d71a4efe",
      "metadata": {
        "id": "d71a4efe"
      },
      "source": [
        "7. Zbuduj naiwny model Bayesa za pomocą funkcji `naiveBayes`."
      ]
    },
    {
      "cell_type": "code",
      "execution_count": null,
      "id": "b500973d",
      "metadata": {
        "tags": [
          "remove_cell"
        ],
        "id": "b500973d"
      },
      "outputs": [],
      "source": [
        "library(e1071)\n",
        "\n",
        "email_mod <-\n",
        "  naiveBayes(message_label ~ . - message_index,\n",
        "             data = email_train,\n",
        "             laplace = 1)"
      ]
    },
    {
      "cell_type": "markdown",
      "id": "0f2b4d82",
      "metadata": {
        "id": "0f2b4d82"
      },
      "source": [
        "8. Oceń jak dobrze model radzi sobie z przewidywaniem, czy email w danych testowych to spam, czy zwykła wiadomość (funkcja `predict`, a następnie obliczenie dokładności predykcji modelu w oparciu o wartości macierzy pomyłek)."
      ]
    },
    {
      "cell_type": "code",
      "execution_count": null,
      "id": "57793238",
      "metadata": {
        "tags": [
          "remove_cell"
        ],
        "colab": {
          "base_uri": "https://localhost:8080/"
        },
        "id": "57793238",
        "outputId": "04f6a1d4-5fab-4509-f7e9-bf3752b1072b"
      },
      "outputs": [
        {
          "output_type": "stream",
          "name": "stdout",
          "text": [
            "           \n",
            "predictions ham spam\n",
            "       ham  196   49\n",
            "       spam  10  164\n",
            "[1] \"Dokładność modelu:  0.86\"\n"
          ]
        }
      ],
      "source": [
        "predictions <- predict(email_mod, email_test)\n",
        "\n",
        "conf_matrix <- table(predictions, email_test$message_label)\n",
        "print(conf_matrix)\n",
        "\n",
        "accuracy <- sum(diag(conf_matrix)) / sum(conf_matrix)\n",
        "print(paste(\"Dokładność modelu: \", round(accuracy, 2)))"
      ]
    },
    {
      "cell_type": "markdown",
      "id": "9fd3b81e",
      "metadata": {
        "id": "9fd3b81e"
      },
      "source": [
        "9. Odpowiedz na pytanie: w jaki sposób moglibyśmy zwiększyć dokładność predykcji?"
      ]
    },
    {
      "cell_type": "code",
      "execution_count": null,
      "id": "be72fc48",
      "metadata": {
        "tags": [
          "remove_cell"
        ],
        "id": "be72fc48"
      },
      "outputs": [],
      "source": [
        "# Zbalansowanie zbioru danych - oversampling lub undersampling dla klas ham i spam\n",
        "# Zwiększenie zbiru danych\n",
        "# Usuwanie stop-wordów oraz stemming i lematyzacja"
      ]
    },
    {
      "cell_type": "markdown",
      "id": "60cc2882",
      "metadata": {
        "id": "60cc2882"
      },
      "source": [
        "## Sieć Bayesa\n",
        "\n",
        "Jednym z najpopularniejszych pakietów R dla sieci Bayesa jest `bnlearn`. Zawiera on wiele różnych algorytmów uczenia SB i wnioskowania oraz zestawy danych.\n",
        "\n",
        "### Przykład\n",
        "\n",
        "Jako przykład wykorzystamy zbiór `coronary` z pakietu `bnlearn`, zawierający prawdopodobne czynniki ryzyka zakrzepicy. Zmienne:\n",
        "\n",
        "- Smoking - palenie (poziomy: 'no', 'yes')\n",
        "- M. Work - wytężona praca umysłowa (poziomy: 'no', 'yes')\n",
        "- P. Work - wytężona praca fizyczna (poziomy: 'no', 'yes')\n",
        "- Pressure - ciśnienie skurczowe krwi (poziomy: '<140', '>140')\n",
        "- Proteins - stosunek lipoprotein alfa i beta (poziomy: '<3', '>3')\n",
        "- Family - występowanie choroby niedokrwiennej w rodzinie (poziomy: 'neg', 'pos')"
      ]
    },
    {
      "cell_type": "code",
      "execution_count": null,
      "id": "189e1860",
      "metadata": {
        "eval": false,
        "include": true,
        "colab": {
          "base_uri": "https://localhost:8080/"
        },
        "id": "189e1860",
        "outputId": "17597371-5bf4-4c46-a506-9d1f22310c26"
      },
      "outputs": [
        {
          "output_type": "stream",
          "name": "stderr",
          "text": [
            "Installing package into ‘/usr/local/lib/R/site-library’\n",
            "(as ‘lib’ is unspecified)\n",
            "\n",
            "\n",
            "Attaching package: ‘bnlearn’\n",
            "\n",
            "\n",
            "The following object is masked from ‘package:e1071’:\n",
            "\n",
            "    impute\n",
            "\n",
            "\n"
          ]
        }
      ],
      "source": [
        "#install.packages(\"bnlearn\")\n",
        "# załadowanie danych\n",
        "library(bnlearn)\n",
        "data(coronary)"
      ]
    },
    {
      "cell_type": "markdown",
      "id": "8f17d7f4",
      "metadata": {
        "id": "8f17d7f4"
      },
      "source": [
        "Utworzenie i wizualizacja sieci Bayesa"
      ]
    },
    {
      "cell_type": "code",
      "execution_count": null,
      "id": "c782287a",
      "metadata": {
        "eval": false,
        "include": true,
        "colab": {
          "base_uri": "https://localhost:8080/",
          "height": 437
        },
        "id": "c782287a",
        "outputId": "26920e67-e067-489f-e23f-2de59cba81cb"
      },
      "outputs": [
        {
          "output_type": "display_data",
          "data": {
            "text/plain": [
              "plot without title"
            ],
            "image/png": "[encoded data removed]"
          },
          "metadata": {
            "image/png": {
              "width": 420,
              "height": 420
            }
          }
        }
      ],
      "source": [
        "bn_df <- data.frame(coronary)\n",
        "res <- hc(bn_df)\n",
        "plot(res)"
      ]
    },
    {
      "cell_type": "markdown",
      "id": "681f0223",
      "metadata": {
        "id": "681f0223"
      },
      "source": [
        "Nie wszystkie powstałe powiązania mają sens (np. `Family` jako warunek `M. Work`). Modyfikacja struktury sieci:"
      ]
    },
    {
      "cell_type": "code",
      "execution_count": null,
      "id": "be177cf6",
      "metadata": {
        "eval": false,
        "include": true,
        "id": "be177cf6"
      },
      "outputs": [],
      "source": [
        "res$arcs <- res$arcs[-which((res$arcs[,'from'] == \"M..Work\" &\n",
        "                               res$arcs[,'to'] == \"Family\")),]"
      ]
    },
    {
      "cell_type": "markdown",
      "id": "6f7110c5",
      "metadata": {
        "id": "6f7110c5"
      },
      "source": [
        "Następnym krokiem po zapoznaniu się ze strukturą sieci, jest znalezienie tablic prawdopodobieństwa warunkowego (CPT) w każdym węźle. Służy do tego funkcja `bn.fit`. Następnie za pomocą funkcji `print` można podejrzeć co znajduje się w węźle `Protein`:"
      ]
    },
    {
      "cell_type": "code",
      "execution_count": null,
      "id": "25639835",
      "metadata": {
        "eval": false,
        "include": true,
        "colab": {
          "base_uri": "https://localhost:8080/"
        },
        "id": "25639835",
        "outputId": "ab513293-4e60-4dba-d5e8-f5d97f9d2130"
      },
      "outputs": [
        {
          "output_type": "stream",
          "name": "stdout",
          "text": [
            "\n",
            "  Parameters of node Proteins (multinomial distribution)\n",
            "\n",
            "Conditional probability table:\n",
            " \n",
            ", , M..Work = no\n",
            "\n",
            "        Smoking\n",
            "Proteins        no       yes\n",
            "      <3 0.6685824 0.6167763\n",
            "      >3 0.3314176 0.3832237\n",
            "\n",
            ", , M..Work = yes\n",
            "\n",
            "        Smoking\n",
            "Proteins        no       yes\n",
            "      <3 0.5671982 0.3235294\n",
            "      >3 0.4328018 0.6764706\n",
            "\n"
          ]
        }
      ],
      "source": [
        "fittedbn <- bn.fit(res, data = bn_df)\n",
        "print(fittedbn$Proteins)"
      ]
    },
    {
      "cell_type": "markdown",
      "id": "f9af6904",
      "metadata": {
        "id": "f9af6904"
      },
      "source": [
        "Tak przygotowaną sieć możemy wykorzystać do wnioskowania. Na przykład móżemy znaleźć odpowiedź na pytanie: Jakie jest prawdopodobieństwo, że osoba niepaląca z ciśnieniem >140, będzie miała poziom białek <3?"
      ]
    },
    {
      "cell_type": "code",
      "execution_count": null,
      "id": "824ea0f1",
      "metadata": {
        "eval": false,
        "include": true,
        "colab": {
          "base_uri": "https://localhost:8080/",
          "height": 34
        },
        "id": "824ea0f1",
        "outputId": "6ab2a827-3b09-42be-da5e-e5233bf7ba99"
      },
      "outputs": [
        {
          "output_type": "display_data",
          "data": {
            "text/html": [
              "0.600649350649351"
            ],
            "text/markdown": "0.600649350649351",
            "text/latex": "0.600649350649351",
            "text/plain": [
              "[1] 0.6006494"
            ]
          },
          "metadata": {}
        }
      ],
      "source": [
        "cpquery(fittedbn, event = (Proteins==\"<3\"), evidence = ((Smoking==\"no\") &\n",
        "                                                          (Pressure == \">140\")))"
      ]
    }
  ],
  "metadata": {
    "jupytext": {
      "cell_metadata_filter": "tags,eval,include,-all",
      "main_language": "R",
      "notebook_metadata_filter": "-all"
    },
    "language_info": {
      "name": "R"
    },
    "colab": {
      "provenance": []
    },
    "kernelspec": {
      "name": "ir",
      "display_name": "R"
    }
  },
  "nbformat": 4,
  "nbformat_minor": 5
}