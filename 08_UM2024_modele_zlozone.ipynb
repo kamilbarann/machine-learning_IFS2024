{
  "cells": [
    {
      "cell_type": "markdown",
      "id": "119c6ee9",
      "metadata": {
        "id": "119c6ee9"
      },
      "source": [
        "# Ulepszanie wydajności klasyfikatorów\n",
        "\n",
        "Wydajność modeli można zwiększać poprzez:\n",
        "\n",
        "- dostrajanie parametrów pojedynczego modelu w celu jego ulepszenia. Do automatycznego dostrajania parametrów modelu w R można użyć pakietu `caret`. Pełna lista metod (algorytmów uczenia maszynowego) i ich dostosowywalnych parametrów znajduje się na [stronie internetowej](http://topepo.github.io/caret/available-models.html).\n",
        "\n",
        "- łączenie ze sobą kilku słabych modeli w celu utworzenia lepszej jednostki. Jest to tak zwane uczenie zespołowe (ang. *ensemble learning*), któremu poświęcone są dzisiejsze ćwiczenia.\n",
        "\n",
        "## Metody zespołowe\n",
        "\n",
        "Podstawowe założenie: zaangażowanie zespołu różnych ekspertów (modeli) we wspólne rozwiązywanie problemu podniesie wydajność uczenia.\n",
        "\n",
        "### Bagging\n",
        "\n",
        "Jedna z najpopularniejszych technik uczenia zespołowego. Nazwa pochodzi od *bootstrap aggregating* - technika bagging wykorzystuje próbkowanie metodą bootstrap w funkcji alokacji do generowania danych przypisywanych do każdego z modeli w zespole. Zespoły w agregacji bootstrap zazwyczaj składają się z jednorodnych klasyfikatorów, które są trenowane równolegle i niezależnie od siebie.\n",
        "Wśród metod bagging jedną z najpopularniejszych są *lasy losowe* (ang. *random forest*), składające się z wielu klasyfikatorów drzew decyzyjnych. Funkcja alokacji lasów łączy próbkowanie metodą bootstrap z losowym wybieraniem cech do generowania danych przydzielanych każdemu z klasyfikatorów w zespole. Lasy losowe nadają się do obsługiwania bardzo szerokich zbiorów danych.\n",
        "\n",
        "### Boosting\n",
        "\n",
        "Zespoły Wzmacniające (ang. *boosting*) są również jednorodnymi zbiorami podstawowych modeli. W odróżnieniu od agregacji bootstrap, we wzmacnianiu podstawowe modele są trenowane sekwencyjnie. Każdy kolejny model w sekwencji próbuje osiągnąć większą wydajność od poprzedniego modelu, ucząc się na błędach poprzednika. Następnie przeprowadzane jest wtórne próbkowanie danych treningowych tak, że przykładom dla których były nieprawidłowe predykcje, otrzymują większą wagę.\n",
        "\n",
        "Proces wtórnego próbkowania, trenowania, oceniania i punktowania jest powtarzany do każdego modelu w sekwencji, dopóki wszystkie modele nie zostaną wytrenowane.\n",
        "\n",
        "### Stacking\n",
        "\n",
        "Stacking, czyli kontaminacja modeli, różni się od poprzednich dwóch tym, że zawiera tu zwykle różnorodne modele podstawowe. Przykładowo może składać się z modelu kNN, modelu regresji logistycznej oraz naiwnego modelu Bayesa. Kontaminacja modeli jest podobna do agregacji bootstrap, tyle że funkcja kombinacji jest tutaj niedeterministyczna (nie przebiega zgodnie z predefiniowanym wzorcem czy zbiorem reguł).\n",
        "\n",
        "Zazponaj się z materiałami zamieszczonymi na stronie [RPubs](https://rpubs.com/mmazurek/346331), sekcje:\n",
        "\n",
        "- Klasyfikatory złożone\n",
        "\n",
        "- Agregacja bootstrapowa (bagging - bootstrap aggregation)\n",
        "\n",
        "- Lasy losowe\n",
        "\n",
        "- Boosting\n",
        "  - Adaboost - adaptive boosting\n",
        "\n",
        "Następnie wykonaj poniższe zadania.\n",
        "\n",
        "## Zadania\n",
        "\n",
        "1.\tPobierz i wczytaj w RStudio plik z danymi `Movie_classification.csv`. Celem zadania jest przewidzenie, czy dany film otrzyma Oskara czy też nie (zmienna dychotomiczna `Start_Tech_Oskar`)."
      ]
    },
    {
      "cell_type": "code",
      "source": [
        "#install.packages(\"caTools\")\n",
        "#install.packages(\"caret\")\n",
        "#install.packages(\"randomForest\")\n",
        "#install.packages(\"tidyverse\")\n",
        "#install.packages(\"dplyr\")\n",
        "#install.packages(\"adabag\")\n",
        "\n",
        "\n",
        "library(tidyverse)\n",
        "library(caTools)\n",
        "library(caret)\n",
        "library(randomForest)\n",
        "library(adabag)\n",
        "library(dplyr)"
      ],
      "metadata": {
        "colab": {
          "base_uri": "https://localhost:8080/"
        },
        "id": "2TwY6oMWsWdW",
        "outputId": "d36b6f4b-2af7-4573-98a9-f97f01e969e5"
      },
      "id": "2TwY6oMWsWdW",
      "execution_count": null,
      "outputs": [
        {
          "output_type": "stream",
          "name": "stderr",
          "text": [
            "Installing package into ‘/usr/local/lib/R/site-library’\n",
            "(as ‘lib’ is unspecified)\n",
            "\n",
            "also installing the dependency ‘bitops’\n",
            "\n",
            "\n",
            "Installing package into ‘/usr/local/lib/R/site-library’\n",
            "(as ‘lib’ is unspecified)\n",
            "\n",
            "also installing the dependencies ‘listenv’, ‘parallelly’, ‘future’, ‘globals’, ‘shape’, ‘future.apply’, ‘numDeriv’, ‘progressr’, ‘SQUAREM’, ‘diagram’, ‘lava’, ‘prodlim’, ‘proxy’, ‘iterators’, ‘clock’, ‘gower’, ‘hardhat’, ‘ipred’, ‘timeDate’, ‘e1071’, ‘foreach’, ‘ModelMetrics’, ‘plyr’, ‘pROC’, ‘recipes’, ‘reshape2’\n",
            "\n",
            "\n",
            "Installing package into ‘/usr/local/lib/R/site-library’\n",
            "(as ‘lib’ is unspecified)\n",
            "\n",
            "Installing package into ‘/usr/local/lib/R/site-library’\n",
            "(as ‘lib’ is unspecified)\n",
            "\n",
            "Installing package into ‘/usr/local/lib/R/site-library’\n",
            "(as ‘lib’ is unspecified)\n",
            "\n",
            "Installing package into ‘/usr/local/lib/R/site-library’\n",
            "(as ‘lib’ is unspecified)\n",
            "\n",
            "also installing the dependencies ‘XML’, ‘rgl’, ‘rlist’, ‘gtools’, ‘doParallel’, ‘ConsRank’\n",
            "\n",
            "\n",
            "── \u001b[1mAttaching core tidyverse packages\u001b[22m ──────────────────────── tidyverse 2.0.0 ──\n",
            "\u001b[32m✔\u001b[39m \u001b[34mdplyr    \u001b[39m 1.1.4     \u001b[32m✔\u001b[39m \u001b[34mreadr    \u001b[39m 2.1.5\n",
            "\u001b[32m✔\u001b[39m \u001b[34mforcats  \u001b[39m 1.0.0     \u001b[32m✔\u001b[39m \u001b[34mstringr  \u001b[39m 1.5.1\n",
            "\u001b[32m✔\u001b[39m \u001b[34mggplot2  \u001b[39m 3.5.1     \u001b[32m✔\u001b[39m \u001b[34mtibble   \u001b[39m 3.2.1\n",
            "\u001b[32m✔\u001b[39m \u001b[34mlubridate\u001b[39m 1.9.4     \u001b[32m✔\u001b[39m \u001b[34mtidyr    \u001b[39m 1.3.1\n",
            "\u001b[32m✔\u001b[39m \u001b[34mpurrr    \u001b[39m 1.0.2     \n",
            "── \u001b[1mConflicts\u001b[22m ────────────────────────────────────────── tidyverse_conflicts() ──\n",
            "\u001b[31m✖\u001b[39m \u001b[34mdplyr\u001b[39m::\u001b[32mfilter()\u001b[39m masks \u001b[34mstats\u001b[39m::filter()\n",
            "\u001b[31m✖\u001b[39m \u001b[34mdplyr\u001b[39m::\u001b[32mlag()\u001b[39m    masks \u001b[34mstats\u001b[39m::lag()\n",
            "\u001b[36mℹ\u001b[39m Use the conflicted package (\u001b[3m\u001b[34m<http://conflicted.r-lib.org/>\u001b[39m\u001b[23m) to force all conflicts to become errors\n",
            "Loading required package: lattice\n",
            "\n",
            "\n",
            "Attaching package: ‘caret’\n",
            "\n",
            "\n",
            "The following object is masked from ‘package:purrr’:\n",
            "\n",
            "    lift\n",
            "\n",
            "\n",
            "randomForest 4.7-1.2\n",
            "\n",
            "Type rfNews() to see new features/changes/bug fixes.\n",
            "\n",
            "\n",
            "Attaching package: ‘randomForest’\n",
            "\n",
            "\n",
            "The following object is masked from ‘package:dplyr’:\n",
            "\n",
            "    combine\n",
            "\n",
            "\n",
            "The following object is masked from ‘package:ggplot2’:\n",
            "\n",
            "    margin\n",
            "\n",
            "\n",
            "Loading required package: rpart\n",
            "\n",
            "Loading required package: foreach\n",
            "\n",
            "\n",
            "Attaching package: ‘foreach’\n",
            "\n",
            "\n",
            "The following objects are masked from ‘package:purrr’:\n",
            "\n",
            "    accumulate, when\n",
            "\n",
            "\n",
            "Loading required package: doParallel\n",
            "\n",
            "Loading required package: iterators\n",
            "\n",
            "Loading required package: parallel\n",
            "\n"
          ]
        }
      ]
    },
    {
      "cell_type": "code",
      "execution_count": null,
      "id": "d7c5c42b",
      "metadata": {
        "vscode": {
          "languageId": "r"
        },
        "colab": {
          "base_uri": "https://localhost:8080/"
        },
        "id": "d7c5c42b",
        "outputId": "3504b2db-97f9-4487-fb3e-be9faab01bcd"
      },
      "outputs": [
        {
          "output_type": "stream",
          "name": "stdout",
          "text": [
            "Rows: 506\n",
            "Columns: 19\n",
            "$ Marketing.expense   \u001b[3m\u001b[90m<dbl>\u001b[39m\u001b[23m 20.1264, 20.5462, 20.5458, 20.6474, 21.3810, 20.59…\n",
            "$ Production.expense  \u001b[3m\u001b[90m<dbl>\u001b[39m\u001b[23m 59.62, 69.14, 69.14, 59.36, 59.36, 59.36, 70.74, 7…\n",
            "$ Multiplex.coverage  \u001b[3m\u001b[90m<dbl>\u001b[39m\u001b[23m 0.462, 0.531, 0.531, 0.542, 0.542, 0.542, 0.476, 0…\n",
            "$ Budget              \u001b[3m\u001b[90m<dbl>\u001b[39m\u001b[23m 36524.12, 35668.65, 39912.68, 38873.89, 39701.58, …\n",
            "$ Movie_length        \u001b[3m\u001b[90m<dbl>\u001b[39m\u001b[23m 138.7, 152.4, 134.6, 119.3, 127.7, 132.2, 140.1, 1…\n",
            "$ Lead_.Actor_Rating  \u001b[3m\u001b[90m<dbl>\u001b[39m\u001b[23m 7.825, 7.505, 7.485, 6.895, 6.920, 6.890, 7.065, 6…\n",
            "$ Lead_Actress_rating \u001b[3m\u001b[90m<dbl>\u001b[39m\u001b[23m 8.095, 7.650, 7.570, 7.035, 7.070, 7.100, 7.265, 7…\n",
            "$ Director_rating     \u001b[3m\u001b[90m<dbl>\u001b[39m\u001b[23m 7.910, 7.440, 7.495, 6.920, 6.815, 6.885, 7.150, 6…\n",
            "$ Producer_rating     \u001b[3m\u001b[90m<dbl>\u001b[39m\u001b[23m 7.995, 7.470, 7.515, 7.020, 7.070, 7.005, 7.400, 7…\n",
            "$ Critic_rating       \u001b[3m\u001b[90m<dbl>\u001b[39m\u001b[23m 7.94, 7.44, 7.44, 8.26, 8.26, 7.26, 8.96, 7.96, 7.…\n",
            "$ Trailer_views       \u001b[3m\u001b[90m<int>\u001b[39m\u001b[23m 527367, 494055, 547051, 516279, 531448, 498425, 45…\n",
            "$ X3D_available       \u001b[3m\u001b[90m<chr>\u001b[39m\u001b[23m \"YES\", \"NO\", \"NO\", \"YES\", \"NO\", \"YES\", \"YES\", \"NO\"…\n",
            "$ Time_taken          \u001b[3m\u001b[90m<dbl>\u001b[39m\u001b[23m 109.60, 146.64, 147.88, 185.36, 176.48, 143.48, 13…\n",
            "$ Twitter_hastags     \u001b[3m\u001b[90m<dbl>\u001b[39m\u001b[23m 223.840, 243.456, 2022.400, 225.344, 225.792, 284.…\n",
            "$ Genre               \u001b[3m\u001b[90m<chr>\u001b[39m\u001b[23m \"Thriller\", \"Drama\", \"Comedy\", \"Drama\", \"Drama\", \"…\n",
            "$ Avg_age_actors      \u001b[3m\u001b[90m<int>\u001b[39m\u001b[23m 23, 42, 38, 45, 55, 53, 41, 56, 55, 45, 29, 23, 57…\n",
            "$ Num_multiplex       \u001b[3m\u001b[90m<int>\u001b[39m\u001b[23m 494, 462, 458, 472, 395, 460, 522, 571, 564, 508, …\n",
            "$ Collection          \u001b[3m\u001b[90m<int>\u001b[39m\u001b[23m 48000, 43200, 69400, 66800, 72400, 57400, 45800, 4…\n",
            "$ Start_Tech_Oscar    \u001b[3m\u001b[90m<int>\u001b[39m\u001b[23m 1, 0, 1, 1, 1, 0, 0, 0, 1, 1, 0, 0, 0, 1, 1, 1, 1,…\n"
          ]
        }
      ],
      "source": [
        "dane <- read.csv(\"Movie_classification.csv\")\n",
        "\n",
        "glimpse(dane)"
      ]
    },
    {
      "cell_type": "markdown",
      "id": "bedad5b3",
      "metadata": {
        "id": "bedad5b3"
      },
      "source": [
        "2.\tPrzyglądnij się danym i przygotuj je do dalszej analizy:\n",
        "\n",
        " - braki danych zastąp wartością średnią dla danego atrybutu,\n",
        " - za pomocą funkcji `sample.split` (z pakietu `caTools`) oraz `subset` podziel dane na zbiór treningowy i testowy."
      ]
    },
    {
      "cell_type": "code",
      "source": [
        "# Zamieniamy NA na wartości średnie\n",
        "dane_cleaned <- dane %>%\n",
        "  mutate(across(where(is.numeric), ~ ifelse(is.na(.), mean(., na.rm = TRUE), .)))"
      ],
      "metadata": {
        "id": "6eQ0KfnhsLkd"
      },
      "id": "6eQ0KfnhsLkd",
      "execution_count": null,
      "outputs": []
    },
    {
      "cell_type": "code",
      "source": [
        "# Zamieniamy typ zmiennej na factor\n",
        "dane_cleaned$Start_Tech_Oscar <- as.factor(dane_cleaned$Start_Tech_Oscar)"
      ],
      "metadata": {
        "id": "tDB3Qs51y-pH"
      },
      "id": "tDB3Qs51y-pH",
      "execution_count": null,
      "outputs": []
    },
    {
      "cell_type": "code",
      "execution_count": null,
      "id": "aa2db9fa",
      "metadata": {
        "vscode": {
          "languageId": "r"
        },
        "id": "aa2db9fa"
      },
      "outputs": [],
      "source": [
        "# Podzielenie danych na train i test\n",
        "set.seed(123)\n",
        "data_split <- sample.split(dane_cleaned$Start_Tech_Oscar, SplitRatio = 0.7)\n",
        "train <- subset(dane_cleaned, data_split == TRUE)\n",
        "test <- subset(dane_cleaned, data_split == FALSE)"
      ]
    },
    {
      "cell_type": "markdown",
      "id": "c9459ccf",
      "metadata": {
        "id": "c9459ccf"
      },
      "source": [
        "3. Dokonaj klasyfikacji za pomocą trzech algorytmów złożonych: bagging, random forest oraz boosting (zbuduj modele na zbiorze treningowym)."
      ]
    },
    {
      "cell_type": "markdown",
      "source": [
        "# Bagging"
      ],
      "metadata": {
        "id": "Qv14M0rGvkAG"
      },
      "id": "Qv14M0rGvkAG"
    },
    {
      "cell_type": "code",
      "execution_count": null,
      "id": "76df25f2",
      "metadata": {
        "vscode": {
          "languageId": "r"
        },
        "id": "76df25f2"
      },
      "outputs": [],
      "source": [
        "bagging_model <- bagging(Start_Tech_Oscar ~ ., data = train, mfinal = 100)\n",
        "bagging_pred_train <- predict(bagging_model, train)\n",
        "bagging_pred_test <- predict(bagging_model, test)"
      ]
    },
    {
      "cell_type": "markdown",
      "source": [
        "# Random Forest"
      ],
      "metadata": {
        "id": "p5GhWh3mvmp-"
      },
      "id": "p5GhWh3mvmp-"
    },
    {
      "cell_type": "code",
      "source": [
        "rf_model <- randomForest(Start_Tech_Oscar ~ ., data = train,\n",
        "                        ntree = 500,  # liczba drzew\n",
        "                        mtry = sqrt(ncol(train)-1))  # liczba zmiennych na kazdym drzewie\n",
        "rf_pred_train <- predict(rf_model, train)\n",
        "rf_pred_test <- predict(rf_model, test)"
      ],
      "metadata": {
        "id": "_-dXZNcRvr7W"
      },
      "id": "_-dXZNcRvr7W",
      "execution_count": null,
      "outputs": []
    },
    {
      "cell_type": "markdown",
      "source": [
        "# Boosting"
      ],
      "metadata": {
        "id": "_fa5Teicvptm"
      },
      "id": "_fa5Teicvptm"
    },
    {
      "cell_type": "code",
      "source": [
        "# AdaBoost\n",
        "boosting_model <- boosting(Start_Tech_Oscar ~ ., data = train, mfinal = 100)\n",
        "boosting_pred_train <- predict(boosting_model, train)\n",
        "boosting_pred_test <- predict(boosting_model, test)"
      ],
      "metadata": {
        "id": "SiRFL-M5vscF"
      },
      "id": "SiRFL-M5vscF",
      "execution_count": null,
      "outputs": []
    },
    {
      "cell_type": "markdown",
      "id": "355b18e9",
      "metadata": {
        "id": "355b18e9"
      },
      "source": [
        "4. Sprawdź jak dobrze utworzone modele radzą sobie z danymi testowymi (użyj funkcji `confusionMatrix` z pakietu `caret`). Jaki procent danych został poprawnie zaklasyfikowany? Który model okazał się w tym przypadku najlepszy?"
      ]
    },
    {
      "cell_type": "code",
      "source": [
        "library(caret)\n",
        "\n",
        "evaluate_model <- function(actual, predicted, model_name) {\n",
        "  conf_matrix <- confusionMatrix(predicted, actual)\n",
        "  cat(\"\\nResults for\", model_name, \":\\n\")\n",
        "  cat(\"Accuracy:\", round(conf_matrix$overall[\"Accuracy\"] * 100, 2), \"%\\n\")\n",
        "  print(conf_matrix$table)\n",
        "  cat(\"\\n\")\n",
        "}"
      ],
      "metadata": {
        "id": "gr43caGacVSI"
      },
      "id": "gr43caGacVSI",
      "execution_count": null,
      "outputs": []
    },
    {
      "cell_type": "markdown",
      "source": [
        "# Ocena modelu Baggingu"
      ],
      "metadata": {
        "id": "M_u16q4M2RR_"
      },
      "id": "M_u16q4M2RR_"
    },
    {
      "cell_type": "code",
      "execution_count": null,
      "id": "2f90fc95",
      "metadata": {
        "vscode": {
          "languageId": "r"
        },
        "id": "2f90fc95",
        "colab": {
          "base_uri": "https://localhost:8080/"
        },
        "outputId": "4087c9c0-4f77-42d3-dd4e-47c33344496c"
      },
      "outputs": [
        {
          "output_type": "stream",
          "name": "stdout",
          "text": [
            "\n",
            "Results for Bagging :\n",
            "Accuracy: 61.84 %\n",
            "          Reference\n",
            "Prediction  0  1\n",
            "         0 41 30\n",
            "         1 28 53\n",
            "\n"
          ]
        }
      ],
      "source": [
        "evaluate_model(test$Start_Tech_Oscar, as.factor(bagging_pred_test$class), \"Bagging\")"
      ]
    },
    {
      "cell_type": "markdown",
      "source": [
        "# Random Forest"
      ],
      "metadata": {
        "id": "A4krPHvv2atv"
      },
      "id": "A4krPHvv2atv"
    },
    {
      "cell_type": "code",
      "source": [
        "evaluate_model(test$Start_Tech_Oscar, rf_pred_test, \"Random Forest\")"
      ],
      "metadata": {
        "id": "1nP92Bvo2aSw",
        "colab": {
          "base_uri": "https://localhost:8080/"
        },
        "outputId": "aa5dd408-a397-462b-a63c-625e6bbaeb5f"
      },
      "id": "1nP92Bvo2aSw",
      "execution_count": null,
      "outputs": [
        {
          "output_type": "stream",
          "name": "stdout",
          "text": [
            "\n",
            "Results for Random Forest :\n",
            "Accuracy: 65.13 %\n",
            "          Reference\n",
            "Prediction  0  1\n",
            "         0 44 28\n",
            "         1 25 55\n",
            "\n"
          ]
        }
      ]
    },
    {
      "cell_type": "markdown",
      "source": [
        "# Boosting"
      ],
      "metadata": {
        "id": "ntFkxw_Y2d8Q"
      },
      "id": "ntFkxw_Y2d8Q"
    },
    {
      "cell_type": "code",
      "source": [
        "evaluate_model(test$Start_Tech_Oscar, as.factor(boosting_pred_test$class), \"Boosting\")"
      ],
      "metadata": {
        "id": "AS-wAjIK2aL4",
        "colab": {
          "base_uri": "https://localhost:8080/"
        },
        "outputId": "5b0a2ffe-e452-4e44-d1c5-d7c2f15e73f3"
      },
      "id": "AS-wAjIK2aL4",
      "execution_count": null,
      "outputs": [
        {
          "output_type": "stream",
          "name": "stdout",
          "text": [
            "\n",
            "Results for Boosting :\n",
            "Accuracy: 64.47 %\n",
            "          Reference\n",
            "Prediction  0  1\n",
            "         0 41 26\n",
            "         1 28 57\n",
            "\n"
          ]
        }
      ]
    }
  ],
  "metadata": {
    "jupytext": {
      "cell_metadata_filter": "-all",
      "main_language": "python",
      "notebook_metadata_filter": "-all"
    },
    "kernelspec": {
      "display_name": "R",
      "name": "ir"
    },
    "language_info": {
      "name": "R"
    },
    "colab": {
      "provenance": []
    }
  },
  "nbformat": 4,
  "nbformat_minor": 5
}